{
 "cells": [
  {
   "cell_type": "code",
   "execution_count": 1,
   "metadata": {},
   "outputs": [],
   "source": [
    "%config IPCompleter.greedy=True"
   ]
  },
  {
   "cell_type": "code",
   "execution_count": 2,
   "metadata": {},
   "outputs": [
    {
     "data": {
      "text/plain": [
       "'--packages org.apache.spark:spark-streaming-kafka-0-8_2.11:2.4.3 pyspark-shell'"
      ]
     },
     "execution_count": 2,
     "metadata": {},
     "output_type": "execute_result"
    }
   ],
   "source": [
    "import os\n",
    "#os.environ['PYSPARK_SUBMIT_ARGS'] = '--packages org.apache.spark:spark-sql-kafka-0-10_2.12:2.4.3 pyspark-shell'\n",
    "os.environ['PYSPARK_SUBMIT_ARGS'] = '--packages org.apache.spark:spark-streaming-kafka-0-8_2.11:2.4.3 pyspark-shell'\n",
    "os.environ['PYSPARK_SUBMIT_ARGS']"
   ]
  },
  {
   "cell_type": "code",
   "execution_count": 3,
   "metadata": {},
   "outputs": [],
   "source": [
    "from pyspark import SparkContext\n",
    "import json\n"
   ]
  },
  {
   "cell_type": "code",
   "execution_count": 4,
   "metadata": {},
   "outputs": [],
   "source": [
    "sc = SparkContext()\n",
    "sc.setLogLevel(\"WARN\")"
   ]
  },
  {
   "cell_type": "code",
   "execution_count": 5,
   "metadata": {},
   "outputs": [],
   "source": [
    "from pyspark.streaming import StreamingContext\n",
    "from pyspark.streaming.kafka import KafkaUtils"
   ]
  },
  {
   "cell_type": "code",
   "execution_count": 6,
   "metadata": {},
   "outputs": [],
   "source": [
    "window = 60 # seconds\n",
    "ssc = StreamingContext(sc, window)"
   ]
  },
  {
   "cell_type": "code",
   "execution_count": 7,
   "metadata": {},
   "outputs": [],
   "source": [
    "kafkaStream = KafkaUtils.createStream(\n",
    "    ssc, 'localhost:2181', 'spark-streaming', {\"clicks\":1})"
   ]
  },
  {
   "cell_type": "code",
   "execution_count": 8,
   "metadata": {},
   "outputs": [],
   "source": [
    "parsed = kafkaStream.map(lambda v: json.loads(v[1]))"
   ]
  },
  {
   "cell_type": "code",
   "execution_count": 9,
   "metadata": {},
   "outputs": [],
   "source": [
    "parsed.count().map(lambda x:'clicks in this batch: %s' % x).pprint()"
   ]
  },
  {
   "cell_type": "code",
   "execution_count": 10,
   "metadata": {
    "scrolled": true
   },
   "outputs": [],
   "source": [
    "my_sorted_data = parsed.transform(lambda rdd: rdd.sortBy(lambda a: a['ts_ingest']))"
   ]
  },
  {
   "cell_type": "code",
   "execution_count": 11,
   "metadata": {},
   "outputs": [],
   "source": [
    "my_sorted_data.pprint()"
   ]
  },
  {
   "cell_type": "code",
   "execution_count": 12,
   "metadata": {},
   "outputs": [
    {
     "name": "stdout",
     "output_type": "stream",
     "text": [
      "-------------------------------------------\n",
      "Time: 2019-06-04 13:33:00\n",
      "-------------------------------------------\n",
      "clicks in this batch: 15707\n",
      "\n",
      "-------------------------------------------\n",
      "Time: 2019-06-04 13:33:00\n",
      "-------------------------------------------\n",
      "{'ts_ingest': 1515801793197, 'article_title': 'List of closed railway stations in Britain: P-R', 'visitor_os': 'windows', 'visitor_country': 'BE', 'visitor_page_timer': 14683, 'visitor_browser': 'chrome', 'article': 'https://en.wikipedia.org/wiki/List_of_closed_railway_stations_in_Britain:_P-R', 'visitor_platform': 'desktop', 'visitor_page_height': 21048}\n",
      "{'ts_ingest': 1515801794407, 'article_title': 'Werauhia marnier-lapostollei', 'visitor_os': 'android', 'visitor_country': 'BE', 'visitor_page_timer': 5847, 'visitor_browser': 'chrome', 'article': 'https://en.wikipedia.org/wiki/Werauhia_marnier-lapostollei', 'visitor_platform': 'mobile', 'visitor_page_height': 4034}\n",
      "{'ts_ingest': 1515801794411, 'article_title': 'Chaufour-lès-Bonnières', 'visitor_os': 'windows', 'visitor_country': 'BE', 'visitor_page_timer': 1946, 'visitor_browser': 'chrome', 'article': 'https://en.wikipedia.org/wiki/Chaufour-l%C3%A8s-Bonni%C3%A8res', 'visitor_platform': 'desktop', 'visitor_page_height': 5923}\n",
      "{'ts_ingest': 1515801794464, 'article_title': 'List of closed railway stations in Britain: P-R', 'visitor_os': 'mac', 'visitor_country': 'BE', 'visitor_page_timer': 26676, 'visitor_browser': 'firefox', 'article': 'https://en.wikipedia.org/wiki/List_of_closed_railway_stations_in_Britain:_P-R', 'visitor_platform': 'desktop', 'visitor_page_height': 18755}\n",
      "{'ts_ingest': 1515801794508, 'article_title': 'Sarah Borwell', 'visitor_os': 'ios', 'visitor_country': 'BE', 'visitor_page_timer': 0, 'visitor_browser': 'unknown', 'article': 'https://en.wikipedia.org/wiki/Sarah_Borwell', 'visitor_platform': 'mobile', 'visitor_page_height': 0}\n",
      "{'ts_ingest': 1515801794532, 'article_title': 'Basilica of Our Lady of Geneva', 'visitor_os': 'windows', 'visitor_country': 'BE', 'visitor_page_timer': 9175, 'visitor_browser': 'chrome', 'article': 'https://en.wikipedia.org/wiki/Basilica_of_Our_Lady_of_Geneva', 'visitor_platform': 'desktop', 'visitor_page_height': 38764}\n",
      "{'ts_ingest': 1515801794599, 'article_title': 'List of closed railway stations in Britain: P-R', 'visitor_os': 'windows', 'visitor_country': 'BE', 'visitor_page_timer': 4837, 'visitor_browser': 'chrome', 'article': 'https://en.wikipedia.org/wiki/List_of_closed_railway_stations_in_Britain:_P-R', 'visitor_platform': 'desktop', 'visitor_page_height': 18737}\n",
      "{'ts_ingest': 1515801794607, 'article_title': 'The Long Beach', 'visitor_os': 'windows', 'visitor_country': 'BE', 'visitor_page_timer': 1149, 'visitor_browser': 'chrome', 'article': 'https://en.wikipedia.org/wiki/Long_Beach,_California', 'visitor_platform': 'desktop', 'visitor_page_height': 4321}\n",
      "{'ts_ingest': 1515801794708, 'article_title': 'List of closed railway stations in Britain: P-R', 'visitor_os': 'android', 'visitor_country': 'BE', 'visitor_page_timer': 26314, 'visitor_browser': 'chrome', 'article': 'https://en.wikipedia.org/wiki/List_of_closed_railway_stations_in_Britain:_P-R', 'visitor_platform': 'mobile', 'visitor_page_height': 26957}\n",
      "{'ts_ingest': 1515801794878, 'article_title': 'Tansey', 'visitor_os': 'ios', 'visitor_country': 'US', 'visitor_page_timer': 0, 'visitor_browser': 'unknown', 'article': 'https://en.wikipedia.org/wiki/Tansey', 'visitor_platform': 'mobile', 'visitor_page_height': 0}\n",
      "...\n",
      "\n",
      "-------------------------------------------\n",
      "Time: 2019-06-04 13:34:00\n",
      "-------------------------------------------\n",
      "clicks in this batch: 1968\n",
      "\n",
      "-------------------------------------------\n",
      "Time: 2019-06-04 13:34:00\n",
      "-------------------------------------------\n",
      "{'ts_ingest': 1515802369408, 'article_title': 'Judith Lang Zaimont', 'visitor_os': 'android', 'visitor_country': 'BE', 'visitor_page_timer': 16670, 'visitor_browser': 'chrome', 'article': 'https://en.wikipedia.org/wiki/Judith_Lang_Zaimont', 'visitor_platform': 'mobile', 'visitor_page_height': 4280}\n",
      "{'ts_ingest': 1515802369416, 'article_title': 'Rosalia Zemlyachka', 'visitor_os': 'android', 'visitor_country': 'HT', 'visitor_page_timer': 88886, 'visitor_browser': 'chrome', 'article': 'https://en.wikipedia.org/wiki/Rosalia_Zemlyachka', 'visitor_platform': 'tablet', 'visitor_page_height': 3483}\n",
      "{'ts_ingest': 1515802369427, 'article_title': 'Chaufour-lès-Bonnières', 'visitor_os': 'android', 'visitor_country': 'BE', 'visitor_page_timer': 11381, 'visitor_browser': 'chrome', 'article': 'https://en.wikipedia.org/wiki/Chaufour-l%C3%A8s-Bonni%C3%A8res', 'visitor_platform': 'mobile', 'visitor_page_height': 6347}\n",
      "{'ts_ingest': 1515802369485, 'article_title': 'Pettai, Villupuram', 'visitor_os': 'mac', 'visitor_country': 'BE', 'visitor_page_timer': 753, 'visitor_browser': 'safari', 'article': 'https://en.wikipedia.org/wiki/Pettai,_Villupuram', 'visitor_platform': 'desktop', 'visitor_page_height': 2496}\n",
      "{'ts_ingest': 1515802369493, 'article_title': 'The Long Beach', 'visitor_os': 'windows', 'visitor_country': 'BE', 'visitor_page_timer': 2528, 'visitor_browser': 'chrome', 'article': 'https://en.wikipedia.org/wiki/Long_Beach,_California', 'visitor_platform': 'desktop', 'visitor_page_height': 4450}\n",
      "{'ts_ingest': 1515802369506, 'article_title': 'Élisabeth Schmidt', 'visitor_os': 'windows', 'visitor_country': 'BE', 'visitor_page_timer': 1157, 'visitor_browser': 'unknown', 'article': 'https://en.wikipedia.org/wiki/%C3%89lisabeth_Schmidt', 'visitor_platform': 'desktop', 'visitor_page_height': 4156}\n",
      "{'ts_ingest': 1515802369518, 'article_title': 'List of closed railway stations in Britain: P-R', 'visitor_os': 'mac', 'visitor_country': 'BE', 'visitor_page_timer': 1551, 'visitor_browser': 'chrome', 'article': 'https://en.wikipedia.org/wiki/List_of_closed_railway_stations_in_Britain:_P-R', 'visitor_platform': 'desktop', 'visitor_page_height': 18737}\n",
      "{'ts_ingest': 1515802369537, 'article_title': 'Philip Herbert, 4th Earl of Pembroke', 'visitor_os': 'mac', 'visitor_country': 'BE', 'visitor_page_timer': 13238, 'visitor_browser': 'chrome', 'article': 'https://en.wikipedia.org/wiki/Philip_Herbert,_4th_Earl_of_Pembroke', 'visitor_platform': 'desktop', 'visitor_page_height': 3948}\n",
      "{'ts_ingest': 1515802369603, 'article_title': 'Kirill Safronov', 'visitor_os': 'android', 'visitor_country': 'BE', 'visitor_page_timer': 7589, 'visitor_browser': 'chrome', 'article': 'https://en.wikipedia.org/wiki/Kirill_Safronov', 'visitor_platform': 'mobile', 'visitor_page_height': 4244}\n",
      "{'ts_ingest': 1515802369627, 'article_title': 'List of closed railway stations in Britain: P-R', 'visitor_os': 'windows', 'visitor_country': 'BE', 'visitor_page_timer': 1760, 'visitor_browser': 'chrome', 'article': 'https://en.wikipedia.org/wiki/List_of_closed_railway_stations_in_Britain:_P-R', 'visitor_platform': 'desktop', 'visitor_page_height': 18738}\n",
      "...\n",
      "\n"
     ]
    },
    {
     "ename": "KeyboardInterrupt",
     "evalue": "",
     "output_type": "error",
     "traceback": [
      "\u001b[0;31m---------------------------------------------------------------------------\u001b[0m",
      "\u001b[0;31mKeyboardInterrupt\u001b[0m                         Traceback (most recent call last)",
      "\u001b[0;32m<ipython-input-12-18f3db416f1c>\u001b[0m in \u001b[0;36m<module>\u001b[0;34m\u001b[0m\n\u001b[1;32m      1\u001b[0m \u001b[0mssc\u001b[0m\u001b[0;34m.\u001b[0m\u001b[0mstart\u001b[0m\u001b[0;34m(\u001b[0m\u001b[0;34m)\u001b[0m\u001b[0;34m\u001b[0m\u001b[0;34m\u001b[0m\u001b[0m\n\u001b[0;32m----> 2\u001b[0;31m \u001b[0mssc\u001b[0m\u001b[0;34m.\u001b[0m\u001b[0mawaitTermination\u001b[0m\u001b[0;34m(\u001b[0m\u001b[0;34m)\u001b[0m\u001b[0;34m\u001b[0m\u001b[0;34m\u001b[0m\u001b[0m\n\u001b[0m",
      "\u001b[0;32m/usr/local/spark/python/pyspark/streaming/context.py\u001b[0m in \u001b[0;36mawaitTermination\u001b[0;34m(self, timeout)\u001b[0m\n\u001b[1;32m    190\u001b[0m         \"\"\"\n\u001b[1;32m    191\u001b[0m         \u001b[0;32mif\u001b[0m \u001b[0mtimeout\u001b[0m \u001b[0;32mis\u001b[0m \u001b[0;32mNone\u001b[0m\u001b[0;34m:\u001b[0m\u001b[0;34m\u001b[0m\u001b[0;34m\u001b[0m\u001b[0m\n\u001b[0;32m--> 192\u001b[0;31m             \u001b[0mself\u001b[0m\u001b[0;34m.\u001b[0m\u001b[0m_jssc\u001b[0m\u001b[0;34m.\u001b[0m\u001b[0mawaitTermination\u001b[0m\u001b[0;34m(\u001b[0m\u001b[0;34m)\u001b[0m\u001b[0;34m\u001b[0m\u001b[0;34m\u001b[0m\u001b[0m\n\u001b[0m\u001b[1;32m    193\u001b[0m         \u001b[0;32melse\u001b[0m\u001b[0;34m:\u001b[0m\u001b[0;34m\u001b[0m\u001b[0;34m\u001b[0m\u001b[0m\n\u001b[1;32m    194\u001b[0m             \u001b[0mself\u001b[0m\u001b[0;34m.\u001b[0m\u001b[0m_jssc\u001b[0m\u001b[0;34m.\u001b[0m\u001b[0mawaitTerminationOrTimeout\u001b[0m\u001b[0;34m(\u001b[0m\u001b[0mint\u001b[0m\u001b[0;34m(\u001b[0m\u001b[0mtimeout\u001b[0m \u001b[0;34m*\u001b[0m \u001b[0;36m1000\u001b[0m\u001b[0;34m)\u001b[0m\u001b[0;34m)\u001b[0m\u001b[0;34m\u001b[0m\u001b[0;34m\u001b[0m\u001b[0m\n",
      "\u001b[0;32m/usr/local/spark/python/lib/py4j-0.10.7-src.zip/py4j/java_gateway.py\u001b[0m in \u001b[0;36m__call__\u001b[0;34m(self, *args)\u001b[0m\n\u001b[1;32m   1253\u001b[0m             \u001b[0mproto\u001b[0m\u001b[0;34m.\u001b[0m\u001b[0mEND_COMMAND_PART\u001b[0m\u001b[0;34m\u001b[0m\u001b[0;34m\u001b[0m\u001b[0m\n\u001b[1;32m   1254\u001b[0m \u001b[0;34m\u001b[0m\u001b[0m\n\u001b[0;32m-> 1255\u001b[0;31m         \u001b[0manswer\u001b[0m \u001b[0;34m=\u001b[0m \u001b[0mself\u001b[0m\u001b[0;34m.\u001b[0m\u001b[0mgateway_client\u001b[0m\u001b[0;34m.\u001b[0m\u001b[0msend_command\u001b[0m\u001b[0;34m(\u001b[0m\u001b[0mcommand\u001b[0m\u001b[0;34m)\u001b[0m\u001b[0;34m\u001b[0m\u001b[0;34m\u001b[0m\u001b[0m\n\u001b[0m\u001b[1;32m   1256\u001b[0m         return_value = get_return_value(\n\u001b[1;32m   1257\u001b[0m             answer, self.gateway_client, self.target_id, self.name)\n",
      "\u001b[0;32m/usr/local/spark/python/lib/py4j-0.10.7-src.zip/py4j/java_gateway.py\u001b[0m in \u001b[0;36msend_command\u001b[0;34m(self, command, retry, binary)\u001b[0m\n\u001b[1;32m    983\u001b[0m         \u001b[0mconnection\u001b[0m \u001b[0;34m=\u001b[0m \u001b[0mself\u001b[0m\u001b[0;34m.\u001b[0m\u001b[0m_get_connection\u001b[0m\u001b[0;34m(\u001b[0m\u001b[0;34m)\u001b[0m\u001b[0;34m\u001b[0m\u001b[0;34m\u001b[0m\u001b[0m\n\u001b[1;32m    984\u001b[0m         \u001b[0;32mtry\u001b[0m\u001b[0;34m:\u001b[0m\u001b[0;34m\u001b[0m\u001b[0;34m\u001b[0m\u001b[0m\n\u001b[0;32m--> 985\u001b[0;31m             \u001b[0mresponse\u001b[0m \u001b[0;34m=\u001b[0m \u001b[0mconnection\u001b[0m\u001b[0;34m.\u001b[0m\u001b[0msend_command\u001b[0m\u001b[0;34m(\u001b[0m\u001b[0mcommand\u001b[0m\u001b[0;34m)\u001b[0m\u001b[0;34m\u001b[0m\u001b[0;34m\u001b[0m\u001b[0m\n\u001b[0m\u001b[1;32m    986\u001b[0m             \u001b[0;32mif\u001b[0m \u001b[0mbinary\u001b[0m\u001b[0;34m:\u001b[0m\u001b[0;34m\u001b[0m\u001b[0;34m\u001b[0m\u001b[0m\n\u001b[1;32m    987\u001b[0m                 \u001b[0;32mreturn\u001b[0m \u001b[0mresponse\u001b[0m\u001b[0;34m,\u001b[0m \u001b[0mself\u001b[0m\u001b[0;34m.\u001b[0m\u001b[0m_create_connection_guard\u001b[0m\u001b[0;34m(\u001b[0m\u001b[0mconnection\u001b[0m\u001b[0;34m)\u001b[0m\u001b[0;34m\u001b[0m\u001b[0;34m\u001b[0m\u001b[0m\n",
      "\u001b[0;32m/usr/local/spark/python/lib/py4j-0.10.7-src.zip/py4j/java_gateway.py\u001b[0m in \u001b[0;36msend_command\u001b[0;34m(self, command)\u001b[0m\n\u001b[1;32m   1150\u001b[0m \u001b[0;34m\u001b[0m\u001b[0m\n\u001b[1;32m   1151\u001b[0m         \u001b[0;32mtry\u001b[0m\u001b[0;34m:\u001b[0m\u001b[0;34m\u001b[0m\u001b[0;34m\u001b[0m\u001b[0m\n\u001b[0;32m-> 1152\u001b[0;31m             \u001b[0manswer\u001b[0m \u001b[0;34m=\u001b[0m \u001b[0msmart_decode\u001b[0m\u001b[0;34m(\u001b[0m\u001b[0mself\u001b[0m\u001b[0;34m.\u001b[0m\u001b[0mstream\u001b[0m\u001b[0;34m.\u001b[0m\u001b[0mreadline\u001b[0m\u001b[0;34m(\u001b[0m\u001b[0;34m)\u001b[0m\u001b[0;34m[\u001b[0m\u001b[0;34m:\u001b[0m\u001b[0;34m-\u001b[0m\u001b[0;36m1\u001b[0m\u001b[0;34m]\u001b[0m\u001b[0;34m)\u001b[0m\u001b[0;34m\u001b[0m\u001b[0;34m\u001b[0m\u001b[0m\n\u001b[0m\u001b[1;32m   1153\u001b[0m             \u001b[0mlogger\u001b[0m\u001b[0;34m.\u001b[0m\u001b[0mdebug\u001b[0m\u001b[0;34m(\u001b[0m\u001b[0;34m\"Answer received: {0}\"\u001b[0m\u001b[0;34m.\u001b[0m\u001b[0mformat\u001b[0m\u001b[0;34m(\u001b[0m\u001b[0manswer\u001b[0m\u001b[0;34m)\u001b[0m\u001b[0;34m)\u001b[0m\u001b[0;34m\u001b[0m\u001b[0;34m\u001b[0m\u001b[0m\n\u001b[1;32m   1154\u001b[0m             \u001b[0;32mif\u001b[0m \u001b[0manswer\u001b[0m\u001b[0;34m.\u001b[0m\u001b[0mstartswith\u001b[0m\u001b[0;34m(\u001b[0m\u001b[0mproto\u001b[0m\u001b[0;34m.\u001b[0m\u001b[0mRETURN_MESSAGE\u001b[0m\u001b[0;34m)\u001b[0m\u001b[0;34m:\u001b[0m\u001b[0;34m\u001b[0m\u001b[0;34m\u001b[0m\u001b[0m\n",
      "\u001b[0;32m/opt/conda/lib/python3.7/socket.py\u001b[0m in \u001b[0;36mreadinto\u001b[0;34m(self, b)\u001b[0m\n\u001b[1;32m    587\u001b[0m         \u001b[0;32mwhile\u001b[0m \u001b[0;32mTrue\u001b[0m\u001b[0;34m:\u001b[0m\u001b[0;34m\u001b[0m\u001b[0;34m\u001b[0m\u001b[0m\n\u001b[1;32m    588\u001b[0m             \u001b[0;32mtry\u001b[0m\u001b[0;34m:\u001b[0m\u001b[0;34m\u001b[0m\u001b[0;34m\u001b[0m\u001b[0m\n\u001b[0;32m--> 589\u001b[0;31m                 \u001b[0;32mreturn\u001b[0m \u001b[0mself\u001b[0m\u001b[0;34m.\u001b[0m\u001b[0m_sock\u001b[0m\u001b[0;34m.\u001b[0m\u001b[0mrecv_into\u001b[0m\u001b[0;34m(\u001b[0m\u001b[0mb\u001b[0m\u001b[0;34m)\u001b[0m\u001b[0;34m\u001b[0m\u001b[0;34m\u001b[0m\u001b[0m\n\u001b[0m\u001b[1;32m    590\u001b[0m             \u001b[0;32mexcept\u001b[0m \u001b[0mtimeout\u001b[0m\u001b[0;34m:\u001b[0m\u001b[0;34m\u001b[0m\u001b[0;34m\u001b[0m\u001b[0m\n\u001b[1;32m    591\u001b[0m                 \u001b[0mself\u001b[0m\u001b[0;34m.\u001b[0m\u001b[0m_timeout_occurred\u001b[0m \u001b[0;34m=\u001b[0m \u001b[0;32mTrue\u001b[0m\u001b[0;34m\u001b[0m\u001b[0;34m\u001b[0m\u001b[0m\n",
      "\u001b[0;31mKeyboardInterrupt\u001b[0m: "
     ]
    }
   ],
   "source": [
    "ssc.start()\n",
    "ssc.awaitTermination()"
   ]
  },
  {
   "cell_type": "code",
   "execution_count": 13,
   "metadata": {},
   "outputs": [],
   "source": [
    "ssc.stop()"
   ]
  }
 ],
 "metadata": {
  "kernelspec": {
   "display_name": "Python 3",
   "language": "python",
   "name": "python3"
  },
  "language_info": {
   "codemirror_mode": {
    "name": "ipython",
    "version": 3
   },
   "file_extension": ".py",
   "mimetype": "text/x-python",
   "name": "python",
   "nbconvert_exporter": "python",
   "pygments_lexer": "ipython3",
   "version": "3.7.3"
  }
 },
 "nbformat": 4,
 "nbformat_minor": 2
}
