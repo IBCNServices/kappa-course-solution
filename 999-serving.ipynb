{
 "cells": [
  {
   "cell_type": "markdown",
   "metadata": {},
   "source": [
    "# Generating the serving layer\n",
    "\n",
    "In this exercise, we'll use Spark structured streaming to generate the serving layer. Specifically, we'll write each event to a single table in InfluxDB. We'll use [the `influxdb` Python library](https://influxdb-python.readthedocs.io/en/latest/api-documentation.html) since there is no dedicated InfluxDB Spark connector."
   ]
  },
  {
   "cell_type": "code",
   "execution_count": 1,
   "metadata": {},
   "outputs": [
    {
     "name": "stdout",
     "output_type": "stream",
     "text": [
      "Requirement already satisfied: kafka-python in /opt/conda/lib/python3.9/site-packages (2.0.2)\n",
      "Collecting influxdb\n",
      "  Downloading influxdb-5.3.1-py2.py3-none-any.whl (77 kB)\n",
      "Requirement already satisfied: pytz in /opt/conda/lib/python3.9/site-packages (from influxdb) (2021.3)\n",
      "Requirement already satisfied: msgpack in /opt/conda/lib/python3.9/site-packages (from influxdb) (1.0.2)\n",
      "Requirement already satisfied: six>=1.10.0 in /opt/conda/lib/python3.9/site-packages (from influxdb) (1.16.0)\n",
      "Requirement already satisfied: requests>=2.17.0 in /opt/conda/lib/python3.9/site-packages (from influxdb) (2.26.0)\n",
      "Requirement already satisfied: python-dateutil>=2.6.0 in /opt/conda/lib/python3.9/site-packages (from influxdb) (2.8.2)\n",
      "Requirement already satisfied: charset-normalizer~=2.0.0 in /opt/conda/lib/python3.9/site-packages (from requests>=2.17.0->influxdb) (2.0.0)\n",
      "Requirement already satisfied: certifi>=2017.4.17 in /opt/conda/lib/python3.9/site-packages (from requests>=2.17.0->influxdb) (2021.10.8)\n",
      "Requirement already satisfied: idna<4,>=2.5 in /opt/conda/lib/python3.9/site-packages (from requests>=2.17.0->influxdb) (3.1)\n",
      "Requirement already satisfied: urllib3<1.27,>=1.21.1 in /opt/conda/lib/python3.9/site-packages (from requests>=2.17.0->influxdb) (1.26.7)\n",
      "Installing collected packages: influxdb\n",
      "Successfully installed influxdb-5.3.1\n"
     ]
    }
   ],
   "source": [
    "%%bash\n",
    "# Install the required Python 3 dependencies\n",
    "python3 -m pip install kafka-python influxdb  # type: ignore"
   ]
  },
  {
   "cell_type": "markdown",
   "metadata": {},
   "source": [
    "First, create the `process` function that writes a single row to InfluxDB. Add the `visitor_browser` and `visitor_country` as tags, `ts_ingest` as the time and the other values as `fields`."
   ]
  },
  {
   "cell_type": "code",
   "execution_count": null,
   "metadata": {},
   "outputs": [],
   "source": [
    "from influxdb import InfluxDBClient\n",
    "\n",
    "client = InfluxDBClient('localhost', 8086, 'root', 'root', 'example')\n",
    "client.create_database('data')\n",
    "\n",
    "def process(row):\n",
    "    client.write_points([{\n",
    "            \"measurement\": \"clicks\",\n",
    "            \"tags\": {\n",
    "                \"visitor_browser\": row['visitor_browser'],\n",
    "                \"visitor_country\": row['visitor_country'],\n",
    "            },\n",
    "            \"time\": row['ts_ingest'],\n",
    "            \"fields\": {\n",
    "                \"visitor_platform\": row['visitor_platform'],\n",
    "                \"article_title\": row['article_title'],\n",
    "                \"article\": row['article'],\n",
    "                \"visitor_os\": row['visitor_os'],\n",
    "                \"visitor_page_timer\": row['visitor_page_timer'],\n",
    "                \"visitor_page_height\": row['visitor_page_height'],\n",
    "            },\n",
    "        }])\n"
   ]
  },
  {
   "cell_type": "markdown",
   "metadata": {},
   "source": [
    "To query the database we can send a HTTP request to the db. More info can be found in the InfluxDB [documentation](https://docs.influxdata.com/influxdb/v1.7/guides/querying_data/). Use the local terminal for curl commands since the notebook image does not have it installed."
   ]
  },
  {
   "cell_type": "markdown",
   "metadata": {},
   "source": [
    "```text\n",
    "curl -G 'http://localhost:8086/query?pretty=true' --data-urlencode \"db=data\" --data-urlencode \"q=SELECT * FROM \\\"clicks\\\"\"\n",
    "```"
   ]
  },
  {
   "cell_type": "markdown",
   "metadata": {},
   "source": [
    "Create a Spark context and specify that the python spark-kafka libraries need to be added."
   ]
  },
  {
   "cell_type": "code",
   "execution_count": null,
   "metadata": {},
   "outputs": [],
   "source": [
    "import os\n",
    "os.environ['PYSPARK_SUBMIT_ARGS'] = '--packages org.apache.spark:spark-sql-kafka-0-10_2.11:2.4.3 pyspark-shell'\n",
    "\n",
    "import pyspark \n",
    "from pyspark import SparkContext\n",
    "from pyspark.sql.session import SparkSession\n",
    "from pyspark.sql.types import *\n",
    "from pyspark.sql.functions import *\n",
    "from pyspark.streaming import StreamingContext\n",
    "from pyspark.streaming.kafka import KafkaUtils\n",
    "\n",
    "sc = SparkContext()\n",
    "sc.setLogLevel(\"WARN\")\n",
    "spark = SparkSession(sc)"
   ]
  },
  {
   "cell_type": "markdown",
   "metadata": {},
   "source": [
    "Create a streaming DataFrame that represents the events received from the Kafka topic `clicks-cleaned`."
   ]
  },
  {
   "cell_type": "code",
   "execution_count": null,
   "metadata": {},
   "outputs": [],
   "source": [
    "df = spark.readStream.format(\"kafka\") \\\n",
    "    .option(\"kafka.bootstrap.servers\",\"localhost:9092\") \\\n",
    "    .option(\"subscribe\", \"clicks-cleaned\") \\\n",
    "    .option(\"startingOffsets\", \"latest\") \\\n",
    "    .load()"
   ]
  },
  {
   "cell_type": "markdown",
   "metadata": {},
   "source": [
    "Cast the json to columns in the DataFrame. Make sure to use TimestampType for the `ts_ingest` since we already converted it in the `clean` notebook."
   ]
  },
  {
   "cell_type": "code",
   "execution_count": null,
   "metadata": {},
   "outputs": [],
   "source": [
    "schema = StructType([\n",
    "    StructField(\"visitor_platform\", StringType()),\n",
    "    StructField(\"ts_ingest\", TimestampType()),\n",
    "    StructField(\"article_title\", StringType()),\n",
    "    StructField(\"visitor_country\", StringType()),\n",
    "    StructField(\"visitor_os\", StringType()),\n",
    "    StructField(\"article\", StringType()),\n",
    "    StructField(\"visitor_browser\", StringType()),\n",
    "    StructField(\"visitor_page_timer\", IntegerType()),\n",
    "    StructField(\"visitor_page_height\", IntegerType()),\n",
    "])\n",
    "\n",
    "dfs = df.selectExpr(\"CAST(value AS STRING)\") \\\n",
    "      .select(from_json(col(\"value\"), schema) \\\n",
    "      .alias(\"clicks\"))\n",
    "\n",
    "df_data = dfs.select(\"clicks.*\")"
   ]
  },
  {
   "cell_type": "markdown",
   "metadata": {},
   "source": [
    "Use a Spark `foreach` statement to call the `process` function for each row and start the query [docs](https://spark.apache.org/docs/latest/structured-streaming-programming-guide.html#foreach)."
   ]
  },
  {
   "cell_type": "code",
   "execution_count": null,
   "metadata": {},
   "outputs": [],
   "source": [
    "query = df_data.writeStream.foreach(process).start()\n",
    "query.awaitTermination()\n",
    "\n",
    "# Debug in terminal\n",
    "# query = df_data_grouped.writeStream.outputMode(\"update\").option(\"truncate\", \"false\").format(\"console\").start()\n",
    "# query.awaitTermination()"
   ]
  }
 ],
 "metadata": {
  "kernelspec": {
   "display_name": "Python 3",
   "language": "python",
   "name": "python3"
  },
  "language_info": {
   "codemirror_mode": {
    "name": "ipython",
    "version": 3
   },
   "file_extension": ".py",
   "mimetype": "text/x-python",
   "name": "python",
   "nbconvert_exporter": "python",
   "pygments_lexer": "ipython3",
   "version": "3.9.7"
  }
 },
 "nbformat": 4,
 "nbformat_minor": 2
}
