{
 "cells": [
  {
   "cell_type": "code",
   "execution_count": 1,
   "metadata": {
    "scrolled": true
   },
   "outputs": [
    {
     "name": "stdout",
     "output_type": "stream",
     "text": [
      "Requirement already satisfied: kafka-python in /opt/conda/lib/python3.7/site-packages (1.4.6)\n"
     ]
    }
   ],
   "source": [
    "%%bash\n",
    "python3 -m pip install kafka-python"
   ]
  },
  {
   "cell_type": "code",
   "execution_count": 2,
   "metadata": {},
   "outputs": [
    {
     "data": {
      "text/plain": [
       "CreateTopicsResponse_v0(topic_errors=[])"
      ]
     },
     "execution_count": 2,
     "metadata": {},
     "output_type": "execute_result"
    }
   ],
   "source": [
    "# Initialize Kafka Topics\n",
    "from kafka import KafkaClient\n",
    "from kafka.admin import KafkaAdminClient, NewTopic\n",
    "\n",
    "TOPICS = [\"clicks\"]\n",
    "\n",
    "kafka_client = KafkaClient(\"localhost:9092\")\n",
    "existing_topics = kafka_client.topic_partitions\n",
    "\n",
    "admin_client = KafkaAdminClient(bootstrap_servers=\"localhost:9092\")\n",
    "topic_list = []\n",
    "for topicname in TOPICS:\n",
    "    if topicname not in existing_topics:\n",
    "        print(\"Creating topic: {}\".format(topicname))\n",
    "        topic_list.append(NewTopic(name=topicname, num_partitions=1, replication_factor=1))\n",
    "admin_client.create_topics(new_topics=topic_list, validate_only=False)"
   ]
  },
  {
   "cell_type": "code",
   "execution_count": 3,
   "metadata": {},
   "outputs": [],
   "source": [
    "# Extract archive of click data\n",
    "import zipfile\n",
    "\n",
    "ARCHIVEF = \"20180113-6-9-with-nulls.json.zip\"\n",
    "CLICKSF = \"20180113-6-9-with-nulls.json\"\n",
    "\n",
    "with zipfile.ZipFile(ARCHIVEF,\"r\") as zip_ref:\n",
    "    zip_ref.extractall(\".\")"
   ]
  },
  {
   "cell_type": "code",
   "execution_count": 4,
   "metadata": {},
   "outputs": [
    {
     "name": "stdout",
     "output_type": "stream",
     "text": [
      "✓ 2018-01-13 05:04:04.345000\n",
      "✓ 2018-01-13 05:04:04.349000\n",
     ]
    }
   ],
   "source": [
    "# Start sending click data\n",
    "import json\n",
    "import time\n",
    "from datetime import datetime\n",
    "\n",
    "from kafka import KafkaProducer\n",
    "from kafka.errors import KafkaError\n",
    "\n",
    "producer = KafkaProducer(bootstrap_servers=['localhost:9092'])\n",
    "\n",
    "orig_start = 0\n",
    "replay_start = time.time() * 1000\n",
    "\n",
    "counter = 0\n",
    "\n",
    "with open(CLICKSF, 'r') as f:\n",
    "    first = True\n",
    "    start_ts = 0\n",
    "    for line in f:\n",
    "        click = json.loads(line)\n",
    "\n",
    "        orig_event = click[\"ts_ingest\"] or 0\n",
    "        \n",
    "        if orig_event:\n",
    "            curr_ts = time.time() * 1000\n",
    "\n",
    "            if first:\n",
    "                first = False\n",
    "                orig_start = click[\"ts_ingest\"]\n",
    "\n",
    "            difference = (orig_event - orig_start) - (curr_ts - replay_start)\n",
    "\n",
    "            if difference > 0:\n",
    "                print(\"sleeping {0:.2f} seconds\".format(difference/1000.0))\n",
    "#                 time.sleep(difference/1000.0)\n",
    "\n",
    "\n",
    "        future = producer.send('clicks', line.encode())\n",
    "        try:\n",
    "            record_metadata = future.get(timeout=10)\n",
    "            print(\"✓ {}\".format(datetime.fromtimestamp(orig_event/1000.0)))\n",
    "        except KafkaError:\n",
    "            log.exception()\n",
    "            pass"
   ]
  }
 ],
 "metadata": {
  "kernelspec": {
   "display_name": "Python 3",
   "language": "python",
   "name": "python3"
  },
  "language_info": {
   "codemirror_mode": {
    "name": "ipython",
    "version": 3
   },
   "file_extension": ".py",
   "mimetype": "text/x-python",
   "name": "python",
   "nbconvert_exporter": "python",
   "pygments_lexer": "ipython3",
   "version": "3.7.3"
  }
 },
 "nbformat": 4,
 "nbformat_minor": 2
}
