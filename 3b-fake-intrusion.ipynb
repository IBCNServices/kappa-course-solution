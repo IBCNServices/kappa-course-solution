{
 "cells": [
  {
   "cell_type": "markdown",
   "metadata": {},
   "source": [
    "# Fake intrusion requests generator\n",
    "\n",
    "This notebook generates fake intrusion requests every second."
   ]
  },
  {
   "cell_type": "code",
   "execution_count": 1,
   "metadata": {},
   "outputs": [
    {
     "name": "stdout",
     "output_type": "stream",
     "text": [
      "Requirement already satisfied: kafka-python in /opt/conda/lib/python3.9/site-packages (2.0.2)\n"
     ]
    }
   ],
   "source": [
    "%%bash\n",
    "# Install the required Python 3 dependencies\n",
    "python3 -m pip install kafka-python  # type: ignore"
   ]
  },
  {
   "cell_type": "code",
   "execution_count": null,
   "metadata": {},
   "outputs": [],
   "source": [
    "intrusion_event = \"\"\"{\"visitor_platform\": \"mobile\",\"ts_ingest\": 1515819844345,\"article_title\": \"Cercanías San Sebastián\",\"visitor_country\": \"BE\",\"visitor_page_timer\": 0,\"visitor_os\": \"ios\",\"article\": \"https://en.wikipedia.org/admin\",\"visitor_page_height\": 0,\"visitor_browser\": \"unknown\"}\"\"\""
   ]
  },
  {
   "cell_type": "code",
   "execution_count": null,
   "metadata": {},
   "outputs": [],
   "source": [
    "# Send the ratings to the endpoint in order to test your implementation of the endpoint.\n",
    "# SENDMODE = \"http\"\n",
    "\n",
    "# Send the ratings straight to Kafka in order to simulate a working endpoint.\n",
    "# This allows you to test cleaning code without a working endpoint. \n",
    "SENDMODE = \"kafka\""
   ]
  },
  {
   "cell_type": "code",
   "execution_count": null,
   "metadata": {},
   "outputs": [],
   "source": [
    "import json\n",
    "import time\n",
    "from datetime import datetime\n",
    "\n",
    "import requests\n",
    "from kafka import KafkaProducer\n",
    "from kafka.errors import KafkaError\n",
    "from IPython.display import clear_output\n",
    "\n",
    "producer = KafkaProducer(bootstrap_servers=['localhost:9092'])\n",
    "\n",
    "orig_start = 0\n",
    "replay_start = time.time() * 1000\n",
    "\n",
    "counter = 0\n",
    "i = 0\n",
    "\n",
    "print(\"Simulating intrusion traffic...\")\n",
    "\n",
    "while True:\n",
    "    if SENDMODE == \"kafka\":\n",
    "        future = producer.send('clicks', json.dumps(intrusion_event).encode('utf-8'))\n",
    "        record_metadata = future.get(timeout=10)\n",
    "    else:\n",
    "        requests.post(\"http://localhost:5000/clicks\", data=intrusion_event.encode(\"utf-8\"), headers={'Content-Type':'application/json'})\n",
    "\n",
    "    print(\"✓\")\n",
    "    if i > 1000:\n",
    "        clear_output()\n",
    "        i = 0\n",
    "    i = i+1\n",
    "    time.sleep(10)\n"
   ]
  }
 ],
 "metadata": {
  "kernelspec": {
   "display_name": "Python 3",
   "language": "python",
   "name": "python3"
  },
  "language_info": {
   "codemirror_mode": {
    "name": "ipython",
    "version": 3
   },
   "file_extension": ".py",
   "mimetype": "text/x-python",
   "name": "python",
   "nbconvert_exporter": "python",
   "pygments_lexer": "ipython3",
   "version": "3.9.7"
  }
 },
 "nbformat": 4,
 "nbformat_minor": 2
}
