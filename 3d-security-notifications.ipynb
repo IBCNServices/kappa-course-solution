{
 "cells": [
  {
   "cell_type": "markdown",
   "metadata": {},
   "source": [
    "# DDoS and Intrusion detection notifications\n",
    "\n",
    "In this exercise we'll set up DDoS and intrusion detection alerts. We'll just print these alerts to the terminal. In a production environment, these would be sent as emails or Slack/chat messages."
   ]
  },
  {
   "cell_type": "code",
   "execution_count": 1,
   "metadata": {},
   "outputs": [
    {
     "name": "stdout",
     "output_type": "stream",
     "text": [
      "Requirement already satisfied: kafka-python in /opt/conda/lib/python3.9/site-packages (2.0.2)\n"
     ]
    }
   ],
   "source": [
    "%%bash\n",
    "# Install the required Python 3 dependencies\n",
    "python3 -m pip install kafka-python  # type: ignore\n"
   ]
  },
  {
   "cell_type": "markdown",
   "metadata": {},
   "source": [
    "## Exercise\n",
    "\n",
    "Create a Python Kafka consumer that reads the topics `clicks-calculated-ddos` and `clicks-calculated-forbidden`.\n",
    "\n",
    "* The consumer creates a notification when, for a given window in `clicks-calculated-ddos` more messages are flagged as possible ddos than ones that are not. *Note: since each window has two rows, one for flagged messages and one for unflagged, you will need to keep a local cache of the windows you've already encountered.*\n",
    "* The consumer creates a notification every time a message from `clicks-calculated-forbidden` has the `forbidden` value set to `True`."
   ]
  },
  {
   "cell_type": "code",
   "execution_count": null,
   "metadata": {},
   "outputs": [],
   "source": [
    "import json\n",
    "from kafka import KafkaConsumer, KafkaProducer\n",
    "from kafka.errors import KafkaError\n",
    "\n",
    "\n",
    "KAFKA_BROKERS = 'localhost:9092'\n",
    "KAFKA_TOPICS = ['clicks-calculated-ddos', 'clicks-calculated-forbidden']\n",
    "KAFKA_OFFSET_RESET = 'latest' # TODO\n",
    "\n",
    "\n",
    "kafka_consumer = KafkaConsumer(auto_offset_reset=KAFKA_OFFSET_RESET,\n",
    "                               bootstrap_servers=KAFKA_BROKERS,\n",
    "                               enable_auto_commit=False, # TODO\n",
    "                               # group_id=KAFKA_GROUP,\n",
    "                               value_deserializer=lambda value: json.loads(value.decode('utf-8')))\n",
    "kafka_consumer.subscribe(KAFKA_TOPICS)\n",
    "\n",
    "# We receive flagged counts one by one from spark so we have to keep a data structure to match true and false flagged.\n",
    "# Structure:\n",
    "# {\n",
    "#     'timestamp': {\n",
    "#         'flagged_true': 7,\n",
    "#         'flagged_false': 1,\n",
    "#     }\n",
    "# }\n",
    "window_cache = {}\n",
    "\n",
    "\n",
    "def extract_window_key(message):\n",
    "    return '{}-{}'.format(message['window']['start'], message['window']['start'])\n",
    "\n",
    "\n",
    "def add_to_window_cache(message):\n",
    "    '''\n",
    "    message structure:\n",
    "    {\"window\":{\"start\":\"2018-01-13T05:04:00.000Z\",\"end\":\"2018-01-13T05:04:10.000Z\"},\"flagged\":true,\"count\":7}\n",
    "    '''\n",
    "    key = extract_window_key(message)\n",
    "    if key not in window_cache:\n",
    "        window_cache[key] = {}\n",
    "    if message['flagged']:\n",
    "        window_cache[key]['flagged_true'] = message['count']\n",
    "    else:\n",
    "        window_cache[key]['flagged_false'] = message['count']\n",
    "    return len(window_cache[key]) == 2\n",
    "    \n",
    "\n",
    "def ddos_window_detection(message):\n",
    "    key = extract_window_key(message)\n",
    "    # For this exercise we will keep the \"detection\" very simple by calculting the ratio of (true / total) > threshold\n",
    "    ddos_ratio = window_cache[key]['flagged_true'] / (window_cache[key]['flagged_false'] + window_cache[key]['flagged_true'])\n",
    "    print(ddos_ratio)\n",
    "    if ddos_ratio > 0.50:\n",
    "        # Trigger alert, possible ddos\n",
    "        return True\n",
    "    # If no suspicious activity was found, we can delete the window from the cache\n",
    "    del window_cache[key]\n",
    "    return False\n",
    "    \n",
    "\n",
    "def notify_admin_ddos(message):\n",
    "    key = extract_window_key(message)\n",
    "    window = window_cache.pop(key)\n",
    "    %notify -m 'DDOS alert'\n",
    "    \n",
    "def notify_admin_forbidden_url(message):\n",
    "    %notify -m 'Forbidden URL alert'\n",
    "    \n",
    "    \n",
    "# {\"window\":{\"start\":\"2018-01-13T05:04:00.000Z\",\"end\":\"2018-01-13T05:04:10.000Z\"},\"flagged\":true,\"count\":7}\n",
    "for msg in kafka_consumer:\n",
    "    if msg.topic == 'clicks-calculated-ddos':\n",
    "        if add_to_window_cache(msg.value) and ddos_window_detection(msg.value):\n",
    "            notify_admin_ddos(msg.value)\n",
    "    elif msg.topic == 'clicks-calculated-forbidden':\n",
    "        if msg.value['forbidden']:\n",
    "            notify_admin_forbidden_url(msg.value)\n",
    "\n"
   ]
  }
 ],
 "metadata": {
  "kernelspec": {
   "display_name": "Python 3",
   "language": "python",
   "name": "python3"
  },
  "language_info": {
   "codemirror_mode": {
    "name": "ipython",
    "version": 3
   },
   "file_extension": ".py",
   "mimetype": "text/x-python",
   "name": "python",
   "nbconvert_exporter": "python",
   "pygments_lexer": "ipython3",
   "version": "3.9.7"
  }
 },
 "nbformat": 4,
 "nbformat_minor": 2
}
