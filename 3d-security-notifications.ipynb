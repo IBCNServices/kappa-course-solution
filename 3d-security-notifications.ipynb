{
 "cells": [
  {
   "cell_type": "markdown",
   "metadata": {},
   "source": [
    "# DDoS and Intrusion detection notifications\n",
    "\n",
    "In this exercise we'll set up DDoS and intrusion detection alerts. We'll send these alerts as Jupyter notifications, although in a regular environment, these would be sent as emails or Slack/chat messages.\n",
    "\n",
    "First, Install support for python Jupyter notifications."
   ]
  },
  {
   "cell_type": "code",
   "execution_count": 1,
   "metadata": {},
   "outputs": [
    {
     "name": "stdout",
     "output_type": "stream",
     "text": [
      "Requirement already satisfied: kafka-python in /opt/conda/lib/python3.9/site-packages (2.0.2)\n",
      "Collecting jupyternotify\n",
      "  Downloading jupyternotify-0.1.15.tar.gz (7.2 kB)\n",
      "  Preparing metadata (setup.py): started\n",
      "  Preparing metadata (setup.py): finished with status 'done'\n",
      "Requirement already satisfied: ipython in /opt/conda/lib/python3.9/site-packages (from jupyternotify) (7.29.0)\n",
      "Collecting jupyter\n",
      "  Downloading jupyter-1.0.0-py2.py3-none-any.whl (2.7 kB)\n",
      "Requirement already satisfied: backcall in /opt/conda/lib/python3.9/site-packages (from ipython->jupyternotify) (0.2.0)\n",
      "Requirement already satisfied: setuptools>=18.5 in /opt/conda/lib/python3.9/site-packages (from ipython->jupyternotify) (58.5.3)\n",
      "Requirement already satisfied: jedi>=0.16 in /opt/conda/lib/python3.9/site-packages (from ipython->jupyternotify) (0.18.0)\n",
      "Requirement already satisfied: prompt-toolkit!=3.0.0,!=3.0.1,<3.1.0,>=2.0.0 in /opt/conda/lib/python3.9/site-packages (from ipython->jupyternotify) (3.0.22)\n",
      "Requirement already satisfied: traitlets>=4.2 in /opt/conda/lib/python3.9/site-packages (from ipython->jupyternotify) (5.1.1)\n",
      "Requirement already satisfied: pickleshare in /opt/conda/lib/python3.9/site-packages (from ipython->jupyternotify) (0.7.5)\n",
      "Requirement already satisfied: matplotlib-inline in /opt/conda/lib/python3.9/site-packages (from ipython->jupyternotify) (0.1.3)\n",
      "Requirement already satisfied: decorator in /opt/conda/lib/python3.9/site-packages (from ipython->jupyternotify) (5.1.0)\n",
      "Requirement already satisfied: pexpect>4.3 in /opt/conda/lib/python3.9/site-packages (from ipython->jupyternotify) (4.8.0)\n",
      "Requirement already satisfied: pygments in /opt/conda/lib/python3.9/site-packages (from ipython->jupyternotify) (2.10.0)\n",
      "Requirement already satisfied: notebook in /opt/conda/lib/python3.9/site-packages (from jupyter->jupyternotify) (6.4.5)\n",
      "Collecting qtconsole\n",
      "  Downloading qtconsole-5.2.1-py3-none-any.whl (120 kB)\n",
      "Requirement already satisfied: ipywidgets in /opt/conda/lib/python3.9/site-packages (from jupyter->jupyternotify) (7.6.5)\n",
      "Collecting jupyter-console\n",
      "  Downloading jupyter_console-6.4.0-py3-none-any.whl (22 kB)\n",
      "Requirement already satisfied: ipykernel in /opt/conda/lib/python3.9/site-packages (from jupyter->jupyternotify) (6.5.0)\n",
      "Requirement already satisfied: nbconvert in /opt/conda/lib/python3.9/site-packages (from jupyter->jupyternotify) (6.2.0)\n",
      "Requirement already satisfied: parso<0.9.0,>=0.8.0 in /opt/conda/lib/python3.9/site-packages (from jedi>=0.16->ipython->jupyternotify) (0.8.2)\n",
      "Requirement already satisfied: ptyprocess>=0.5 in /opt/conda/lib/python3.9/site-packages (from pexpect>4.3->ipython->jupyternotify) (0.7.0)\n",
      "Requirement already satisfied: wcwidth in /opt/conda/lib/python3.9/site-packages (from prompt-toolkit!=3.0.0,!=3.0.1,<3.1.0,>=2.0.0->ipython->jupyternotify) (0.2.5)\n",
      "Requirement already satisfied: tornado<7.0,>=4.2 in /opt/conda/lib/python3.9/site-packages (from ipykernel->jupyter->jupyternotify) (6.1)\n",
      "Requirement already satisfied: debugpy<2.0,>=1.0.0 in /opt/conda/lib/python3.9/site-packages (from ipykernel->jupyter->jupyternotify) (1.5.1)\n",
      "Requirement already satisfied: jupyter-client<8.0 in /opt/conda/lib/python3.9/site-packages (from ipykernel->jupyter->jupyternotify) (7.0.6)\n",
      "Requirement already satisfied: nbformat>=4.2.0 in /opt/conda/lib/python3.9/site-packages (from ipywidgets->jupyter->jupyternotify) (5.1.3)\n",
      "Requirement already satisfied: jupyterlab-widgets>=1.0.0 in /opt/conda/lib/python3.9/site-packages (from ipywidgets->jupyter->jupyternotify) (1.0.2)\n",
      "Requirement already satisfied: widgetsnbextension~=3.5.0 in /opt/conda/lib/python3.9/site-packages (from ipywidgets->jupyter->jupyternotify) (3.5.2)\n",
      "Requirement already satisfied: ipython-genutils~=0.2.0 in /opt/conda/lib/python3.9/site-packages (from ipywidgets->jupyter->jupyternotify) (0.2.0)\n",
      "Requirement already satisfied: nbclient<0.6.0,>=0.5.0 in /opt/conda/lib/python3.9/site-packages (from nbconvert->jupyter->jupyternotify) (0.5.5)\n",
      "Requirement already satisfied: entrypoints>=0.2.2 in /opt/conda/lib/python3.9/site-packages (from nbconvert->jupyter->jupyternotify) (0.3)\n",
      "Requirement already satisfied: pandocfilters>=1.4.1 in /opt/conda/lib/python3.9/site-packages (from nbconvert->jupyter->jupyternotify) (1.5.0)\n",
      "Requirement already satisfied: mistune<2,>=0.8.1 in /opt/conda/lib/python3.9/site-packages (from nbconvert->jupyter->jupyternotify) (0.8.4)\n",
      "Requirement already satisfied: jupyter-core in /opt/conda/lib/python3.9/site-packages (from nbconvert->jupyter->jupyternotify) (4.9.1)\n",
      "Requirement already satisfied: defusedxml in /opt/conda/lib/python3.9/site-packages (from nbconvert->jupyter->jupyternotify) (0.7.1)\n",
      "Requirement already satisfied: bleach in /opt/conda/lib/python3.9/site-packages (from nbconvert->jupyter->jupyternotify) (4.1.0)\n",
      "Requirement already satisfied: testpath in /opt/conda/lib/python3.9/site-packages (from nbconvert->jupyter->jupyternotify) (0.5.0)\n",
      "Requirement already satisfied: jupyterlab-pygments in /opt/conda/lib/python3.9/site-packages (from nbconvert->jupyter->jupyternotify) (0.1.2)\n",
      "Requirement already satisfied: jinja2>=2.4 in /opt/conda/lib/python3.9/site-packages (from nbconvert->jupyter->jupyternotify) (3.0.3)\n",
      "Requirement already satisfied: pyzmq>=17 in /opt/conda/lib/python3.9/site-packages (from notebook->jupyter->jupyternotify) (22.3.0)\n",
      "Requirement already satisfied: prometheus-client in /opt/conda/lib/python3.9/site-packages (from notebook->jupyter->jupyternotify) (0.12.0)\n",
      "Requirement already satisfied: terminado>=0.8.3 in /opt/conda/lib/python3.9/site-packages (from notebook->jupyter->jupyternotify) (0.12.1)\n",
      "Requirement already satisfied: Send2Trash>=1.5.0 in /opt/conda/lib/python3.9/site-packages (from notebook->jupyter->jupyternotify) (1.8.0)\n",
      "Requirement already satisfied: argon2-cffi in /opt/conda/lib/python3.9/site-packages (from notebook->jupyter->jupyternotify) (21.1.0)\n",
      "Collecting qtpy\n",
      "  Downloading QtPy-1.11.3-py2.py3-none-any.whl (59 kB)\n",
      "Requirement already satisfied: MarkupSafe>=2.0 in /opt/conda/lib/python3.9/site-packages (from jinja2>=2.4->nbconvert->jupyter->jupyternotify) (2.0.1)\n",
      "Requirement already satisfied: python-dateutil>=2.1 in /opt/conda/lib/python3.9/site-packages (from jupyter-client<8.0->ipykernel->jupyter->jupyternotify) (2.8.2)\n",
      "Requirement already satisfied: nest-asyncio>=1.5 in /opt/conda/lib/python3.9/site-packages (from jupyter-client<8.0->ipykernel->jupyter->jupyternotify) (1.5.1)\n",
      "Requirement already satisfied: jsonschema!=2.5.0,>=2.4 in /opt/conda/lib/python3.9/site-packages (from nbformat>=4.2.0->ipywidgets->jupyter->jupyternotify) (4.2.1)\n",
      "Requirement already satisfied: cffi>=1.0.0 in /opt/conda/lib/python3.9/site-packages (from argon2-cffi->notebook->jupyter->jupyternotify) (1.15.0)\n",
      "Requirement already satisfied: packaging in /opt/conda/lib/python3.9/site-packages (from bleach->nbconvert->jupyter->jupyternotify) (21.2)\n",
      "Requirement already satisfied: six>=1.9.0 in /opt/conda/lib/python3.9/site-packages (from bleach->nbconvert->jupyter->jupyternotify) (1.16.0)\n",
      "Requirement already satisfied: webencodings in /opt/conda/lib/python3.9/site-packages (from bleach->nbconvert->jupyter->jupyternotify) (0.5.1)\n",
      "Requirement already satisfied: pycparser in /opt/conda/lib/python3.9/site-packages (from cffi>=1.0.0->argon2-cffi->notebook->jupyter->jupyternotify) (2.21)\n",
      "Requirement already satisfied: attrs>=17.4.0 in /opt/conda/lib/python3.9/site-packages (from jsonschema!=2.5.0,>=2.4->nbformat>=4.2.0->ipywidgets->jupyter->jupyternotify) (21.2.0)\n",
      "Requirement already satisfied: pyrsistent!=0.17.0,!=0.17.1,!=0.17.2,>=0.14.0 in /opt/conda/lib/python3.9/site-packages (from jsonschema!=2.5.0,>=2.4->nbformat>=4.2.0->ipywidgets->jupyter->jupyternotify) (0.18.0)\n",
      "Requirement already satisfied: pyparsing<3,>=2.0.2 in /opt/conda/lib/python3.9/site-packages (from packaging->bleach->nbconvert->jupyter->jupyternotify) (2.4.7)\n",
      "Building wheels for collected packages: jupyternotify\n",
      "  Building wheel for jupyternotify (setup.py): started\n",
      "  Building wheel for jupyternotify (setup.py): finished with status 'done'\n",
      "  Created wheel for jupyternotify: filename=jupyternotify-0.1.15-py3-none-any.whl size=8743 sha256=9543e21240f6d1f3595f724f4b27a9a457fff90b04ac33c73e5a74fc802bac5f\n",
      "  Stored in directory: /home/jovyan/.cache/pip/wheels/db/f4/43/06c94fe0f5bacf0029ea8ebb8d080f372b97661740be7b3d74\n",
      "Successfully built jupyternotify\n",
      "Installing collected packages: qtpy, qtconsole, jupyter-console, jupyter, jupyternotify\n",
      "Successfully installed jupyter-1.0.0 jupyter-console-6.4.0 jupyternotify-0.1.15 qtconsole-5.2.1 qtpy-1.11.3\n"
     ]
    }
   ],
   "source": [
    "%%bash\n",
    "# Install the required Python 3 dependencies\n",
    "python3 -m pip install kafka-python jupyternotify  # type: ignore\n"
   ]
  },
  {
   "cell_type": "markdown",
   "metadata": {},
   "source": [
    "Load the notification extension. Click \"Allow Notifications\" when the browser asks you.\n",
    "\n",
    "![](img/enable-notifications.png)"
   ]
  },
  {
   "cell_type": "code",
   "execution_count": 3,
   "metadata": {},
   "outputs": [
    {
     "data": {
      "application/javascript": "if (!(\"Notification\" in window)) {\n    alert(\"This browser does not support desktop notifications, so the %%notify magic will not work.\");\n} else if (Notification.permission !== 'granted' && Notification.permission !== 'denied') {\n    Notification.requestPermission(function (permission) {\n        if(!('permission' in Notification)) {\n            Notification.permission = permission;\n        }\n    })\n}\n",
      "text/plain": [
       "<IPython.core.display.Javascript object>"
      ]
     },
     "metadata": {},
     "output_type": "display_data"
    }
   ],
   "source": [
    "%load_ext jupyternotify"
   ]
  },
  {
   "cell_type": "markdown",
   "metadata": {},
   "source": [
    "You can now send notifications using `%notify -m 'test'`"
   ]
  },
  {
   "cell_type": "code",
   "execution_count": 7,
   "metadata": {},
   "outputs": [
    {
     "data": {
      "application/javascript": "$(document).ready(\n    function() {\n        function appendUniqueDiv(){\n            // append a div with our uuid so we can check that it's already\n            // been sent and avoid duplicates on page reload\n            var notifiedDiv = document.createElement(\"div\")\n            notifiedDiv.id = \"1f3ed3ae-2f81-404d-a442-50c842fb6e5d\"\n            element.append(notifiedDiv)\n        }\n\n        // only send notifications if the pageload is complete; this will\n        // help stop extra notifications when a saved notebook is loaded,\n        // which during testing gives us state \"interactive\", not \"complete\"\n        if (document.readyState === 'complete') {\n            // check for the div that signifies that the notification\n            // was already sent\n            if (document.getElementById(\"1f3ed3ae-2f81-404d-a442-50c842fb6e5d\") === null) {\n                var notificationPayload = {\"requireInteraction\": false, \"icon\": \"/static/base/images/favicon.ico\", \"body\": \"test\"};\n                if (Notification.permission !== 'denied') {\n                    if (Notification.permission !== 'granted') { \n                        Notification.requestPermission(function (permission) {\n                            if(!('permission' in Notification)) {\n                                Notification.permission = permission\n                            }\n                        })\n                    }\n                    if (Notification.permission === 'granted') {\n                    var notification = new Notification(\"Jupyter Notebook\", notificationPayload)\n                    appendUniqueDiv()\n                    notification.onclick = function () {\n                        window.focus();\n                        this.close();\n                        };\n                    } \n                }     \n            }\n        }\n    }\n)\n",
      "text/plain": [
       "<IPython.core.display.Javascript object>"
      ]
     },
     "metadata": {},
     "output_type": "display_data"
    }
   ],
   "source": [
    "def send_test_notification():\n",
    "    %notify -m 'test'\n",
    "\n",
    "send_test_notification()"
   ]
  },
  {
   "cell_type": "markdown",
   "metadata": {},
   "source": [
    "## Exercise\n",
    "\n",
    "Create a Python Kafka consumer that reads the topics `clicks-calculated-ddos` and `clicks-calculated-forbidden`.\n",
    "\n",
    "* The consumer creates a notification when, for a given window in `clicks-calculated-ddos` more messages are flagged as possible ddos than ones that are not. *Note: since each window has two rows, one for flagged messages and one for unflagged, you will need to keep a local cache of the windows you've already encountered.*\n",
    "* The consumer creates a notification every time a message from `clicks-calculated-forbidden` has the `forbidden` value set to `True`."
   ]
  },
  {
   "cell_type": "code",
   "execution_count": null,
   "metadata": {},
   "outputs": [],
   "source": [
    "import json\n",
    "from kafka import KafkaConsumer, KafkaProducer\n",
    "from kafka.common import KafkaError\n",
    "\n",
    "\n",
    "KAFKA_BROKERS = 'localhost:9092'\n",
    "KAFKA_TOPICS = ['clicks-calculated-ddos', 'clicks-calculated-forbidden']\n",
    "KAFKA_OFFSET_RESET = 'latest' # TODO\n",
    "\n",
    "\n",
    "kafka_consumer = KafkaConsumer(auto_offset_reset=KAFKA_OFFSET_RESET,\n",
    "                               bootstrap_servers=KAFKA_BROKERS,\n",
    "                               enable_auto_commit=False, # TODO\n",
    "                               # group_id=KAFKA_GROUP,\n",
    "                               value_deserializer=lambda value: json.loads(value.decode('utf-8')))\n",
    "kafka_consumer.subscribe(KAFKA_TOPICS)\n",
    "\n",
    "# We receive flagged counts one by one from spark so we have to keep a data structure to match true and false flagged.\n",
    "# Structure:\n",
    "# {\n",
    "#     'timestamp': {\n",
    "#         'flagged_true': 7,\n",
    "#         'flagged_false': 1,\n",
    "#     }\n",
    "# }\n",
    "window_cache = {}\n",
    "\n",
    "\n",
    "def extract_window_key(message):\n",
    "    return '{}-{}'.format(message['window']['start'], message['window']['start'])\n",
    "\n",
    "\n",
    "def add_to_window_cache(message):\n",
    "    '''\n",
    "    message structure:\n",
    "    {\"window\":{\"start\":\"2018-01-13T05:04:00.000Z\",\"end\":\"2018-01-13T05:04:10.000Z\"},\"flagged\":true,\"count\":7}\n",
    "    '''\n",
    "    key = extract_window_key(message)\n",
    "    if key not in window_cache:\n",
    "        window_cache[key] = {}\n",
    "    if message['flagged']:\n",
    "        window_cache[key]['flagged_true'] = message['count']\n",
    "    else:\n",
    "        window_cache[key]['flagged_false'] = message['count']\n",
    "    return len(window_cache[key]) == 2\n",
    "    \n",
    "\n",
    "def ddos_window_detection(message):\n",
    "    key = extract_window_key(message)\n",
    "    # For this exercise we will keep the \"detection\" very simple by calculting the ratio of (true / total) > threshold\n",
    "    ddos_ratio = window_cache[key]['flagged_true'] / (window_cache[key]['flagged_false'] + window_cache[key]['flagged_true'])\n",
    "    print(ddos_ratio)\n",
    "    if ddos_ratio > 0.50:\n",
    "        # Trigger alert, possible ddos\n",
    "        return True\n",
    "    # If no suspicious activity was found, we can delete the window from the cache\n",
    "    del window_cache[key]\n",
    "    return False\n",
    "    \n",
    "\n",
    "def notify_admin_ddos(message):\n",
    "    key = extract_window_key(message)\n",
    "    window = window_cache.pop(key)\n",
    "    %notify -m 'DDOS alert'\n",
    "    \n",
    "def notify_admin_forbidden_url(message):\n",
    "    %notify -m 'Forbidden URL alert'\n",
    "    \n",
    "    \n",
    "# {\"window\":{\"start\":\"2018-01-13T05:04:00.000Z\",\"end\":\"2018-01-13T05:04:10.000Z\"},\"flagged\":true,\"count\":7}\n",
    "for msg in kafka_consumer:\n",
    "    if msg.topic == 'clicks-calculated-ddos':\n",
    "        if add_to_window_cache(msg.value) and ddos_window_detection(msg.value):\n",
    "            notify_admin_ddos(msg.value)\n",
    "    elif msg.topic == 'clicks-calculated-forbidden':\n",
    "        if msg.value['forbidden']:\n",
    "            notify_admin_forbidden_url(msg.value)\n",
    "\n"
   ]
  }
 ],
 "metadata": {
  "kernelspec": {
   "display_name": "Python 3",
   "language": "python",
   "name": "python3"
  },
  "language_info": {
   "codemirror_mode": {
    "name": "ipython",
    "version": 3
   },
   "file_extension": ".py",
   "mimetype": "text/x-python",
   "name": "python",
   "nbconvert_exporter": "python",
   "pygments_lexer": "ipython3",
   "version": "3.9.7"
  }
 },
 "nbformat": 4,
 "nbformat_minor": 2
}
