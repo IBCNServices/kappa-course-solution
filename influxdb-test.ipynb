{
 "cells": [
  {
   "cell_type": "code",
   "execution_count": 1,
   "metadata": {},
   "outputs": [
    {
     "name": "stdout",
     "output_type": "stream",
     "text": [
      "Requirement already satisfied: influxdb in /opt/conda/lib/python3.7/site-packages (5.2.2)\n",
      "Requirement already satisfied: python-dateutil>=2.6.0 in /opt/conda/lib/python3.7/site-packages (from influxdb) (2.8.0)\n",
      "Requirement already satisfied: requests>=2.17.0 in /opt/conda/lib/python3.7/site-packages (from influxdb) (2.21.0)\n",
      "Requirement already satisfied: six>=1.10.0 in /opt/conda/lib/python3.7/site-packages (from influxdb) (1.12.0)\n",
      "Requirement already satisfied: pytz in /opt/conda/lib/python3.7/site-packages (from influxdb) (2019.1)\n",
      "Requirement already satisfied: certifi>=2017.4.17 in /opt/conda/lib/python3.7/site-packages (from requests>=2.17.0->influxdb) (2019.3.9)\n",
      "Requirement already satisfied: chardet<3.1.0,>=3.0.2 in /opt/conda/lib/python3.7/site-packages (from requests>=2.17.0->influxdb) (3.0.4)\n",
      "Requirement already satisfied: idna<2.9,>=2.5 in /opt/conda/lib/python3.7/site-packages (from requests>=2.17.0->influxdb) (2.8)\n",
      "Requirement already satisfied: urllib3<1.25,>=1.21.1 in /opt/conda/lib/python3.7/site-packages (from requests>=2.17.0->influxdb) (1.24.2)\n"
     ]
    }
   ],
   "source": [
    "%%bash\n",
    "python3 -m pip install influxdb"
   ]
  },
  {
   "cell_type": "code",
   "execution_count": 2,
   "metadata": {},
   "outputs": [],
   "source": [
    "#\n",
    "# source: https://www.influxdata.com/blog/getting-started-python-influxdb/\n",
    "#\n",
    "from influxdb import InfluxDBClient\n",
    "client = InfluxDBClient(host='localhost', port=8086)"
   ]
  },
  {
   "cell_type": "code",
   "execution_count": 3,
   "metadata": {},
   "outputs": [
    {
     "data": {
      "text/plain": [
       "[{'name': '_internal'}, {'name': 'pyexample'}]"
      ]
     },
     "execution_count": 3,
     "metadata": {},
     "output_type": "execute_result"
    }
   ],
   "source": [
    "client.create_database('pyexample')\n",
    "client.get_list_database()"
   ]
  },
  {
   "cell_type": "code",
   "execution_count": 4,
   "metadata": {},
   "outputs": [
    {
     "data": {
      "text/plain": [
       "True"
      ]
     },
     "execution_count": 4,
     "metadata": {},
     "output_type": "execute_result"
    }
   ],
   "source": [
    "client.switch_database('pyexample')\n",
    "json_body = [\n",
    "    {\n",
    "        \"measurement\": \"brushEvents\",\n",
    "        \"tags\": {\n",
    "            \"user\": \"Carol\",\n",
    "            \"brushId\": \"6c89f539-71c6-490d-a28d-6c5d84c0ee2f\"\n",
    "        },\n",
    "        \"time\": \"2018-03-28T8:01:00Z\",\n",
    "        \"fields\": {\n",
    "            \"duration\": 127\n",
    "        }\n",
    "    },\n",
    "    {\n",
    "        \"measurement\": \"brushEvents\",\n",
    "        \"tags\": {\n",
    "            \"user\": \"Carol\",\n",
    "            \"brushId\": \"6c89f539-71c6-490d-a28d-6c5d84c0ee2f\"\n",
    "        },\n",
    "        \"time\": \"2018-03-29T8:04:00Z\",\n",
    "        \"fields\": {\n",
    "            \"duration\": 132\n",
    "        }\n",
    "    },\n",
    "    {\n",
    "        \"measurement\": \"brushEvents\",\n",
    "        \"tags\": {\n",
    "            \"user\": \"Carol\",\n",
    "            \"brushId\": \"6c89f539-71c6-490d-a28d-6c5d84c0ee2f\"\n",
    "        },\n",
    "        \"time\": \"2018-03-30T8:02:00Z\",\n",
    "        \"fields\": {\n",
    "            \"duration\": 129\n",
    "        }\n",
    "    }\n",
    "]\n",
    "client.write_points(json_body)"
   ]
  },
  {
   "cell_type": "code",
   "execution_count": 5,
   "metadata": {},
   "outputs": [
    {
     "data": {
      "text/plain": [
       "{'statement_id': 0,\n",
       " 'series': [{'name': 'brushEvents',\n",
       "   'tags': {'user': 'Carol'},\n",
       "   'columns': ['time', 'duration'],\n",
       "   'values': [['2018-03-28T08:01:00Z', 127],\n",
       "    ['2018-03-29T08:04:00Z', 132],\n",
       "    ['2018-03-30T08:02:00Z', 129]]}]}"
      ]
     },
     "execution_count": 5,
     "metadata": {},
     "output_type": "execute_result"
    }
   ],
   "source": [
    "results = client.query('SELECT \"duration\" FROM \"pyexample\".\"autogen\".\"brushEvents\" WHERE time < now() - 4d GROUP BY \"user\"')\n",
    "results.raw"
   ]
  }
 ],
 "metadata": {
  "kernelspec": {
   "display_name": "Python 3",
   "language": "python",
   "name": "python3"
  },
  "language_info": {
   "codemirror_mode": {
    "name": "ipython",
    "version": 3
   },
   "file_extension": ".py",
   "mimetype": "text/x-python",
   "name": "python",
   "nbconvert_exporter": "python",
   "pygments_lexer": "ipython3",
   "version": "3.7.3"
  }
 },
 "nbformat": 4,
 "nbformat_minor": 2
}
