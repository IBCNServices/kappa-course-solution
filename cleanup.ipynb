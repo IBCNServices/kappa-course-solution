{
 "cells": [
  {
   "cell_type": "code",
   "execution_count": null,
   "metadata": {},
   "outputs": [],
   "source": [
    "%%bash\n",
    "python3 -m pip install kafka-python"
   ]
  },
  {
   "cell_type": "code",
   "execution_count": null,
   "metadata": {},
   "outputs": [],
   "source": [
    "import json\n",
    "from kafka import KafkaProducer\n",
    "from kafka.errors import KafkaError\n",
    "\n",
    "producer = KafkaProducer(bootstrap_servers=['10.10.139.63:9092'],\n",
    "                         value_serializer=lambda v: json.dumps(v).encode('utf-8'))\n",
    "\n",
    "def send_record(rdd):\n",
    "    records = rdd.collect()\n",
    "    for r in records:\n",
    "        producer.send('output', r)\n",
    "        producer.flush()"
   ]
  },
  {
   "cell_type": "code",
   "execution_count": null,
   "metadata": {},
   "outputs": [],
   "source": [
    "import os\n",
    "os.environ['PYSPARK_SUBMIT_ARGS'] = '--packages org.apache.spark:spark-streaming-kafka-0-8_2.11:2.4.3 pyspark-shell'\n",
    "\n",
    "from pyspark import SparkContext\n",
    "import json\n",
    "\n",
    "sc = SparkContext()\n",
    "sc.setLogLevel(\"WARN\")\n",
    "\n",
    "from pyspark.streaming import StreamingContext\n",
    "from pyspark.streaming.kafka import KafkaUtils\n",
    "\n",
    "\n",
    "def country_to_upper(data):\n",
    "    data['visitor_country'] = data['visitor_country'].upper()\n",
    "    return data\n",
    "\n",
    "ssc = StreamingContext(sc, 30)\n",
    "\n",
    "directKafkaStream = KafkaUtils.createDirectStream(ssc, ['test'], {\"metadata.broker.list\": '10.10.139.63:9092'}, \n",
    "                                                 messageHandler=lambda x: json.loads(x.message))\n",
    "# Remove message without a 'ts_ingest' field or empty timestamps\n",
    "filtered_ts = directKafkaStream.filter(lambda x: 'ts_ingest' in x.keys() and x['ts_ingest'])\n",
    "# Ensure data uniformity, all country codes should be uppercase\n",
    "uppercase_country = filtered_ts.map(country_to_upper)\n",
    "# Filter on only clicks from BE\n",
    "filtered_be = uppercase_country.filter(lambda x: 'visitor_country' in x.keys() and x['visitor_country'] == 'BE')\n",
    "# Send the result back to Kafka\n",
    "filtered_be.foreachRDD(send_record)"
   ]
  },
  {
   "cell_type": "code",
   "execution_count": null,
   "metadata": {},
   "outputs": [],
   "source": [
    "ssc.start()\n",
    "ssc.awaitTermination()"
   ]
  },
  {
   "cell_type": "code",
   "execution_count": null,
   "metadata": {},
   "outputs": [],
   "source": []
  }
 ],
 "metadata": {
  "kernelspec": {
   "display_name": "Python 3",
   "language": "python",
   "name": "python3"
  },
  "language_info": {
   "codemirror_mode": {
    "name": "ipython",
    "version": 3
   },
   "file_extension": ".py",
   "mimetype": "text/x-python",
   "name": "python",
   "nbconvert_exporter": "python",
   "pygments_lexer": "ipython3",
   "version": "3.7.3"
  }
 },
 "nbformat": 4,
 "nbformat_minor": 2
}
