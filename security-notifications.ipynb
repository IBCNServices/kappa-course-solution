{
 "cells": [
  {
   "cell_type": "code",
   "execution_count": 1,
   "metadata": {},
   "outputs": [
    {
     "name": "stdout",
     "output_type": "stream",
     "text": [
      "Requirement already satisfied: kafka-python in /opt/conda/lib/python3.7/site-packages (1.4.6)\n",
      "Requirement already satisfied: rx in /opt/conda/lib/python3.7/site-packages (1.6.1)\n",
      "Requirement already satisfied: jupyternotify in /opt/conda/lib/python3.7/site-packages (0.1.15)\n",
      "Requirement already satisfied: ipython in /opt/conda/lib/python3.7/site-packages (from jupyternotify) (7.5.0)\n",
      "Requirement already satisfied: jupyter in /opt/conda/lib/python3.7/site-packages (from jupyternotify) (1.0.0)\n",
      "Requirement already satisfied: pygments in /opt/conda/lib/python3.7/site-packages (from ipython->jupyternotify) (2.4.0)\n",
      "Requirement already satisfied: pickleshare in /opt/conda/lib/python3.7/site-packages (from ipython->jupyternotify) (0.7.5)\n",
      "Requirement already satisfied: traitlets>=4.2 in /opt/conda/lib/python3.7/site-packages (from ipython->jupyternotify) (4.3.2)\n",
      "Requirement already satisfied: decorator in /opt/conda/lib/python3.7/site-packages (from ipython->jupyternotify) (4.4.0)\n",
      "Requirement already satisfied: pexpect; sys_platform != \"win32\" in /opt/conda/lib/python3.7/site-packages (from ipython->jupyternotify) (4.7.0)\n",
      "Requirement already satisfied: backcall in /opt/conda/lib/python3.7/site-packages (from ipython->jupyternotify) (0.1.0)\n",
      "Requirement already satisfied: prompt-toolkit<2.1.0,>=2.0.0 in /opt/conda/lib/python3.7/site-packages (from ipython->jupyternotify) (2.0.9)\n",
      "Requirement already satisfied: setuptools>=18.5 in /opt/conda/lib/python3.7/site-packages (from ipython->jupyternotify) (41.0.1)\n",
      "Requirement already satisfied: jedi>=0.10 in /opt/conda/lib/python3.7/site-packages (from ipython->jupyternotify) (0.13.3)\n",
      "Requirement already satisfied: ipykernel in /opt/conda/lib/python3.7/site-packages (from jupyter->jupyternotify) (5.1.0)\n",
      "Requirement already satisfied: notebook in /opt/conda/lib/python3.7/site-packages (from jupyter->jupyternotify) (5.7.8)\n",
      "Requirement already satisfied: ipywidgets in /opt/conda/lib/python3.7/site-packages (from jupyter->jupyternotify) (7.4.2)\n",
      "Requirement already satisfied: nbconvert in /opt/conda/lib/python3.7/site-packages (from jupyter->jupyternotify) (5.5.0)\n",
      "Requirement already satisfied: qtconsole in /opt/conda/lib/python3.7/site-packages (from jupyter->jupyternotify) (4.5.1)\n",
      "Requirement already satisfied: jupyter-console in /opt/conda/lib/python3.7/site-packages (from jupyter->jupyternotify) (6.0.0)\n",
      "Requirement already satisfied: ipython_genutils in /opt/conda/lib/python3.7/site-packages (from traitlets>=4.2->ipython->jupyternotify) (0.2.0)\n",
      "Requirement already satisfied: six in /opt/conda/lib/python3.7/site-packages (from traitlets>=4.2->ipython->jupyternotify) (1.12.0)\n",
      "Requirement already satisfied: ptyprocess>=0.5 in /opt/conda/lib/python3.7/site-packages (from pexpect; sys_platform != \"win32\"->ipython->jupyternotify) (0.6.0)\n",
      "Requirement already satisfied: wcwidth in /opt/conda/lib/python3.7/site-packages (from prompt-toolkit<2.1.0,>=2.0.0->ipython->jupyternotify) (0.1.7)\n",
      "Requirement already satisfied: parso>=0.3.0 in /opt/conda/lib/python3.7/site-packages (from jedi>=0.10->ipython->jupyternotify) (0.4.0)\n",
      "Requirement already satisfied: jupyter-client in /opt/conda/lib/python3.7/site-packages (from ipykernel->jupyter->jupyternotify) (5.2.4)\n",
      "Requirement already satisfied: tornado>=4.2 in /opt/conda/lib/python3.7/site-packages (from ipykernel->jupyter->jupyternotify) (6.0.2)\n",
      "Requirement already satisfied: jinja2 in /opt/conda/lib/python3.7/site-packages (from notebook->jupyter->jupyternotify) (2.10.1)\n",
      "Requirement already satisfied: jupyter-core>=4.4.0 in /opt/conda/lib/python3.7/site-packages (from notebook->jupyter->jupyternotify) (4.4.0)\n",
      "Requirement already satisfied: terminado>=0.8.1 in /opt/conda/lib/python3.7/site-packages (from notebook->jupyter->jupyternotify) (0.8.2)\n",
      "Requirement already satisfied: prometheus-client in /opt/conda/lib/python3.7/site-packages (from notebook->jupyter->jupyternotify) (0.6.0)\n",
      "Requirement already satisfied: nbformat in /opt/conda/lib/python3.7/site-packages (from notebook->jupyter->jupyternotify) (4.4.0)\n",
      "Requirement already satisfied: Send2Trash in /opt/conda/lib/python3.7/site-packages (from notebook->jupyter->jupyternotify) (1.5.0)\n",
      "Requirement already satisfied: pyzmq>=17 in /opt/conda/lib/python3.7/site-packages (from notebook->jupyter->jupyternotify) (18.0.1)\n",
      "Requirement already satisfied: widgetsnbextension~=3.4.0 in /opt/conda/lib/python3.7/site-packages (from ipywidgets->jupyter->jupyternotify) (3.4.2)\n",
      "Requirement already satisfied: mistune>=0.8.1 in /opt/conda/lib/python3.7/site-packages (from nbconvert->jupyter->jupyternotify) (0.8.4)\n",
      "Requirement already satisfied: defusedxml in /opt/conda/lib/python3.7/site-packages (from nbconvert->jupyter->jupyternotify) (0.5.0)\n",
      "Requirement already satisfied: entrypoints>=0.2.2 in /opt/conda/lib/python3.7/site-packages (from nbconvert->jupyter->jupyternotify) (0.3)\n",
      "Requirement already satisfied: bleach in /opt/conda/lib/python3.7/site-packages (from nbconvert->jupyter->jupyternotify) (3.1.0)\n",
      "Requirement already satisfied: pandocfilters>=1.4.1 in /opt/conda/lib/python3.7/site-packages (from nbconvert->jupyter->jupyternotify) (1.4.2)\n",
      "Requirement already satisfied: testpath in /opt/conda/lib/python3.7/site-packages (from nbconvert->jupyter->jupyternotify) (0.4.2)\n",
      "Requirement already satisfied: python-dateutil>=2.1 in /opt/conda/lib/python3.7/site-packages (from jupyter-client->ipykernel->jupyter->jupyternotify) (2.8.0)\n",
      "Requirement already satisfied: MarkupSafe>=0.23 in /opt/conda/lib/python3.7/site-packages (from jinja2->notebook->jupyter->jupyternotify) (1.1.1)\n",
      "Requirement already satisfied: jsonschema!=2.5.0,>=2.4 in /opt/conda/lib/python3.7/site-packages (from nbformat->notebook->jupyter->jupyternotify) (3.0.1)\n",
      "Requirement already satisfied: webencodings in /opt/conda/lib/python3.7/site-packages (from bleach->nbconvert->jupyter->jupyternotify) (0.5.1)\n",
      "Requirement already satisfied: attrs>=17.4.0 in /opt/conda/lib/python3.7/site-packages (from jsonschema!=2.5.0,>=2.4->nbformat->notebook->jupyter->jupyternotify) (19.1.0)\n",
      "Requirement already satisfied: pyrsistent>=0.14.0 in /opt/conda/lib/python3.7/site-packages (from jsonschema!=2.5.0,>=2.4->nbformat->notebook->jupyter->jupyternotify) (0.15.2)\n"
     ]
    }
   ],
   "source": [
    "%%bash\n",
    "python3 -m pip install kafka-python rx jupyternotify"
   ]
  },
  {
   "cell_type": "code",
   "execution_count": 2,
   "metadata": {},
   "outputs": [
    {
     "data": {
      "application/javascript": [
       "if (!(\"Notification\" in window)) {\n",
       "    alert(\"This browser does not support desktop notifications, so the %%notify magic will not work.\");\n",
       "} else if (Notification.permission !== 'granted' && Notification.permission !== 'denied') {\n",
       "    Notification.requestPermission(function (permission) {\n",
       "        if(!('permission' in Notification)) {\n",
       "            Notification.permission = permission;\n",
       "        }\n",
       "    })\n",
       "}\n"
      ],
      "text/plain": [
       "<IPython.core.display.Javascript object>"
      ]
     },
     "metadata": {},
     "output_type": "display_data"
    }
   ],
   "source": [
    "%load_ext jupyternotify"
   ]
  },
  {
   "cell_type": "code",
   "execution_count": null,
   "metadata": {},
   "outputs": [],
   "source": [
    "import json\n",
    "from kafka import KafkaConsumer, KafkaProducer\n",
    "from kafka.common import KafkaError\n",
    "from rx import Observable\n",
    "\n",
    "\n",
    "KAFKA_BROKERS = 'localhost:9092'\n",
    "KAFKA_TOPICS = ['clicks-calculated-ddos', 'clicks-calculated-forbidden']\n",
    "KAFKA_OFFSET_RESET = 'latest' # TODO\n",
    "\n",
    "\n",
    "kafka_consumer = KafkaConsumer(auto_offset_reset=KAFKA_OFFSET_RESET,\n",
    "                               bootstrap_servers=KAFKA_BROKERS,\n",
    "                               enable_auto_commit=False, # TODO\n",
    "                               # group_id=KAFKA_GROUP,\n",
    "                               value_deserializer=lambda value: json.loads(value.decode('utf-8')))\n",
    "kafka_consumer.subscribe(KAFKA_TOPICS)\n",
    "\n",
    "# We receive flagged counts one by one from spark so we have to keep a data structure to match true and false flagged.\n",
    "# Structure:\n",
    "# {\n",
    "#     'timestamp': {\n",
    "#         'flagged_true': 7,\n",
    "#         'flagged_false': 1,\n",
    "#     }\n",
    "# }\n",
    "window_cache = {}\n",
    "\n",
    "\n",
    "def extract_window_key(message):\n",
    "    return '{}-{}'.format(message['window']['start'], message['window']['start'])\n",
    "\n",
    "\n",
    "def add_to_window_cache(message):\n",
    "    '''\n",
    "    message structure:\n",
    "    {\"window\":{\"start\":\"2018-01-13T05:04:00.000Z\",\"end\":\"2018-01-13T05:04:10.000Z\"},\"flagged\":true,\"count\":7}\n",
    "    '''\n",
    "    key = extract_window_key(message)\n",
    "    if key not in window_cache:\n",
    "        window_cache[key] = {}\n",
    "    print(message)\n",
    "    if message['flagged']:\n",
    "        window_cache[key]['flagged_true'] = message['count']\n",
    "    else:\n",
    "        print('FALSE')\n",
    "        window_cache[key]['flagged_false'] = message['count']\n",
    "    return len(window_cache[key]) == 2\n",
    "    \n",
    "\n",
    "def ddos_window_detection(message):\n",
    "    key = extract_window_key(message)\n",
    "    # For this exercise we will keep the \"detection\" very simple by calculting the ratio of (true / total) > threshold\n",
    "    ddos_ratio = window_cache[key]['flagged_true'] / (window_cache[key]['flagged_false'] + window_cache[key]['flagged_true'])\n",
    "    print(ddos_ratio)\n",
    "    if ddos_ratio > 0.50:\n",
    "        # Trigger alert, possible ddos\n",
    "        return True\n",
    "    # If no suspicious activity was found, we can delete the window from the cache\n",
    "    del window_cache[key]\n",
    "    return False\n",
    "    \n",
    "\n",
    "def notify_admin_ddos(message):\n",
    "    key = extract_window_key(message)\n",
    "    window = window_cache.pop(key)\n",
    "    %notify -m 'DDOS alert'\n",
    "    \n",
    "def notify_admin_forbidden_url(message):\n",
    "    %notify -m 'Forbidden URL alert'\n",
    "    \n",
    "    \n",
    "# {\"window\":{\"start\":\"2018-01-13T05:04:00.000Z\",\"end\":\"2018-01-13T05:04:10.000Z\"},\"flagged\":true,\"count\":7}\n",
    "for msg in kafka_consumer:\n",
    "    if msg.topic == 'clicks-calculated-ddos':\n",
    "        if add_to_window_cache(msg.value) and ddos_window_detection(msg.value):\n",
    "            notify_admin_ddos(msg.value)\n",
    "    elif msg.topic == 'clicks-calculated-forbidden':\n",
    "        if msg.value['forbidden']:\n",
    "            notify_admin_forbidden_url(msg.value)\n",
    "\n"
   ]
  },
  {
   "cell_type": "code",
   "execution_count": null,
   "metadata": {},
   "outputs": [],
   "source": []
  }
 ],
 "metadata": {
  "kernelspec": {
   "display_name": "Python 3",
   "language": "python",
   "name": "python3"
  },
  "language_info": {
   "codemirror_mode": {
    "name": "ipython",
    "version": 3
   },
   "file_extension": ".py",
   "mimetype": "text/x-python",
   "name": "python",
   "nbconvert_exporter": "python",
   "pygments_lexer": "ipython3",
   "version": "3.7.3"
  }
 },
 "nbformat": 4,
 "nbformat_minor": 2
}
