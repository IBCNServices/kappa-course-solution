{
 "cells": [
  {
   "cell_type": "markdown",
   "metadata": {},
   "source": [
    "# DDoS and Intrusion detection notifications\n",
    "\n",
    "In this exercise we'll set up DDoS and intrusion detection alerts. We'll send these alerts as Jupyter notifications, although in a regular environment, these would be sent as emails or Slack/chat messages.\n",
    "\n",
    "First, Install support for python Jupyter notifications."
   ]
  },
  {
   "cell_type": "code",
   "execution_count": null,
   "metadata": {},
   "outputs": [],
   "source": [
    "%%bash\n",
    "python3 -m pip install kafka-python jupyternotify"
   ]
  },
  {
   "cell_type": "markdown",
   "metadata": {},
   "source": [
    "Load the notification extension. Click \"Allow Notifications\" when the browser asks you.\n",
    "\n",
    "![](img/enable-notifications.png)"
   ]
  },
  {
   "cell_type": "code",
   "execution_count": 3,
   "metadata": {},
   "outputs": [
    {
     "data": {
      "application/javascript": [
       "if (!(\"Notification\" in window)) {\n",
       "    alert(\"This browser does not support desktop notifications, so the %%notify magic will not work.\");\n",
       "} else if (Notification.permission !== 'granted' && Notification.permission !== 'denied') {\n",
       "    Notification.requestPermission(function (permission) {\n",
       "        if(!('permission' in Notification)) {\n",
       "            Notification.permission = permission;\n",
       "        }\n",
       "    })\n",
       "}\n"
      ],
      "text/plain": [
       "<IPython.core.display.Javascript object>"
      ]
     },
     "metadata": {},
     "output_type": "display_data"
    }
   ],
   "source": [
    "%load_ext jupyternotify"
   ]
  },
  {
   "cell_type": "markdown",
   "metadata": {},
   "source": [
    "You can now send notifications using `%notify -m 'test'`"
   ]
  },
  {
   "cell_type": "code",
   "execution_count": 7,
   "metadata": {},
   "outputs": [
    {
     "data": {
      "application/javascript": [
       "$(document).ready(\n",
       "    function() {\n",
       "        function appendUniqueDiv(){\n",
       "            // append a div with our uuid so we can check that it's already\n",
       "            // been sent and avoid duplicates on page reload\n",
       "            var notifiedDiv = document.createElement(\"div\")\n",
       "            notifiedDiv.id = \"1f3ed3ae-2f81-404d-a442-50c842fb6e5d\"\n",
       "            element.append(notifiedDiv)\n",
       "        }\n",
       "\n",
       "        // only send notifications if the pageload is complete; this will\n",
       "        // help stop extra notifications when a saved notebook is loaded,\n",
       "        // which during testing gives us state \"interactive\", not \"complete\"\n",
       "        if (document.readyState === 'complete') {\n",
       "            // check for the div that signifies that the notification\n",
       "            // was already sent\n",
       "            if (document.getElementById(\"1f3ed3ae-2f81-404d-a442-50c842fb6e5d\") === null) {\n",
       "                var notificationPayload = {\"requireInteraction\": false, \"icon\": \"/static/base/images/favicon.ico\", \"body\": \"test\"};\n",
       "                if (Notification.permission !== 'denied') {\n",
       "                    if (Notification.permission !== 'granted') { \n",
       "                        Notification.requestPermission(function (permission) {\n",
       "                            if(!('permission' in Notification)) {\n",
       "                                Notification.permission = permission\n",
       "                            }\n",
       "                        })\n",
       "                    }\n",
       "                    if (Notification.permission === 'granted') {\n",
       "                    var notification = new Notification(\"Jupyter Notebook\", notificationPayload)\n",
       "                    appendUniqueDiv()\n",
       "                    notification.onclick = function () {\n",
       "                        window.focus();\n",
       "                        this.close();\n",
       "                        };\n",
       "                    } \n",
       "                }     \n",
       "            }\n",
       "        }\n",
       "    }\n",
       ")\n"
      ],
      "text/plain": [
       "<IPython.core.display.Javascript object>"
      ]
     },
     "metadata": {},
     "output_type": "display_data"
    }
   ],
   "source": [
    "def send_test_notification():\n",
    "    %notify -m 'test'\n",
    "\n",
    "send_test_notification()"
   ]
  },
  {
   "cell_type": "markdown",
   "metadata": {},
   "source": [
    "## Exercise\n",
    "\n",
    "Create a Python Kafka consumer that reads the topics `clicks-calculated-ddos` and `clicks-calculated-forbidden`.\n",
    "\n",
    "* The consumer creates a notification when, for a given window in `clicks-calculated-ddos` more messages are flagged as possible ddos than ones that are not. *Note: since each window has two rows, one for flagged messages and one for unflagged, you will need to keep a local cache of the windows you've already encountered.*\n",
    "* The consumer creates a notification every time a message from `clicks-calculated-forbidden` has the `forbidden` value set to `True`."
   ]
  },
  {
   "cell_type": "code",
   "execution_count": null,
   "metadata": {},
   "outputs": [],
   "source": [
    "import json\n",
    "from kafka import KafkaConsumer, KafkaProducer\n",
    "from kafka.common import KafkaError\n",
    "from rx import Observable\n",
    "\n",
    "\n",
    "KAFKA_BROKERS = 'localhost:9092'\n",
    "KAFKA_TOPICS = ['clicks-calculated-ddos', 'clicks-calculated-forbidden']\n",
    "KAFKA_OFFSET_RESET = 'latest' # TODO\n",
    "\n",
    "\n",
    "kafka_consumer = KafkaConsumer(auto_offset_reset=KAFKA_OFFSET_RESET,\n",
    "                               bootstrap_servers=KAFKA_BROKERS,\n",
    "                               enable_auto_commit=False, # TODO\n",
    "                               # group_id=KAFKA_GROUP,\n",
    "                               value_deserializer=lambda value: json.loads(value.decode('utf-8')))\n",
    "kafka_consumer.subscribe(KAFKA_TOPICS)\n",
    "\n",
    "# We receive flagged counts one by one from spark so we have to keep a data structure to match true and false flagged.\n",
    "# Structure:\n",
    "# {\n",
    "#     'timestamp': {\n",
    "#         'flagged_true': 7,\n",
    "#         'flagged_false': 1,\n",
    "#     }\n",
    "# }\n",
    "window_cache = {}\n",
    "\n",
    "\n",
    "def extract_window_key(message):\n",
    "    return '{}-{}'.format(message['window']['start'], message['window']['start'])\n",
    "\n",
    "\n",
    "def add_to_window_cache(message):\n",
    "    '''\n",
    "    message structure:\n",
    "    {\"window\":{\"start\":\"2018-01-13T05:04:00.000Z\",\"end\":\"2018-01-13T05:04:10.000Z\"},\"flagged\":true,\"count\":7}\n",
    "    '''\n",
    "    key = extract_window_key(message)\n",
    "    if key not in window_cache:\n",
    "        window_cache[key] = {}\n",
    "    if message['flagged']:\n",
    "        window_cache[key]['flagged_true'] = message['count']\n",
    "    else:\n",
    "        window_cache[key]['flagged_false'] = message['count']\n",
    "    return len(window_cache[key]) == 2\n",
    "    \n",
    "\n",
    "def ddos_window_detection(message):\n",
    "    key = extract_window_key(message)\n",
    "    # For this exercise we will keep the \"detection\" very simple by calculting the ratio of (true / total) > threshold\n",
    "    ddos_ratio = window_cache[key]['flagged_true'] / (window_cache[key]['flagged_false'] + window_cache[key]['flagged_true'])\n",
    "    print(ddos_ratio)\n",
    "    if ddos_ratio > 0.50:\n",
    "        # Trigger alert, possible ddos\n",
    "        return True\n",
    "    # If no suspicious activity was found, we can delete the window from the cache\n",
    "    del window_cache[key]\n",
    "    return False\n",
    "    \n",
    "\n",
    "def notify_admin_ddos(message):\n",
    "    key = extract_window_key(message)\n",
    "    window = window_cache.pop(key)\n",
    "    %notify -m 'DDOS alert'\n",
    "    \n",
    "def notify_admin_forbidden_url(message):\n",
    "    %notify -m 'Forbidden URL alert'\n",
    "    \n",
    "    \n",
    "# {\"window\":{\"start\":\"2018-01-13T05:04:00.000Z\",\"end\":\"2018-01-13T05:04:10.000Z\"},\"flagged\":true,\"count\":7}\n",
    "for msg in kafka_consumer:\n",
    "    if msg.topic == 'clicks-calculated-ddos':\n",
    "        if add_to_window_cache(msg.value) and ddos_window_detection(msg.value):\n",
    "            notify_admin_ddos(msg.value)\n",
    "    elif msg.topic == 'clicks-calculated-forbidden':\n",
    "        if msg.value['forbidden']:\n",
    "            notify_admin_forbidden_url(msg.value)\n",
    "\n"
   ]
  }
 ],
 "metadata": {
  "kernelspec": {
   "display_name": "Python 3",
   "language": "python",
   "name": "python3"
  },
  "language_info": {
   "codemirror_mode": {
    "name": "ipython",
    "version": 3
   },
   "file_extension": ".py",
   "mimetype": "text/x-python",
   "name": "python",
   "nbconvert_exporter": "python",
   "pygments_lexer": "ipython3",
   "version": "3.7.3"
  }
 },
 "nbformat": 4,
 "nbformat_minor": 2
}
