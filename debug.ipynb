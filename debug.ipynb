{
 "cells": [
  {
   "cell_type": "code",
   "execution_count": 8,
   "metadata": {},
   "outputs": [
    {
     "name": "stdout",
     "output_type": "stream",
     "text": [
      "Last offset: 1639372\n",
      "b'{\"visitor_platform\":\"desktop\",\"ts_ingest\":1515831006206,\"article_title\":\"Republican National Coalition for Life\",\"visitor_page_height\":16500,\"visitor_country\":\"BE\",\"visitor_page_timer\":12300,\"article\":\"https://en.wikipedia.org/wiki/Republican_National_Coalition_for_Life\",\"visitor_browser\":\"chrome\",\"visitor_os\":\"windows\"}\\n'\n",
      "timestamp: 2018-01-13 08:10:06.206000\n",
      "b'{\"visitor_platform\":\"desktop\",\"ts_ingest\":1515831006211,\"article_title\":\"Viche\",\"visitor_page_height\":3148,\"visitor_country\":\"BE\",\"visitor_page_timer\":645,\"article\":\"https://en.wikipedia.org/wiki/Viche\",\"visitor_browser\":\"chrome\",\"visitor_os\":\"windows\"}\\n'\n",
      "timestamp: 2018-01-13 08:10:06.211000\n",
      "b'{\"visitor_platform\":\"mobile\",\"ts_ingest\":1515831006232,\"article_title\":\"Republican National Coalition for Life\",\"visitor_page_height\":23849,\"visitor_country\":\"BE\",\"visitor_page_timer\":9388,\"article\":\"https://en.wikipedia.org/wiki/Republican_National_Coalition_for_Life\",\"visitor_browser\":\"chrome\",\"visitor_os\":\"android\"}\\n'\n",
      "timestamp: 2018-01-13 08:10:06.232000\n",
      "b'{\"visitor_platform\":\"tablet\",\"ts_ingest\":1515831006258,\"article_title\":\"Dr. Simon Locke\",\"visitor_page_height\":0,\"visitor_country\":\"BE\",\"visitor_page_timer\":0,\"article\":\"https://en.wikipedia.org/wiki/Dr._Simon_Locke\",\"visitor_browser\":\"unknown\",\"visitor_os\":\"ios\"}\\n'\n",
      "timestamp: 2018-01-13 08:10:06.258000\n",
      "b'{\"visitor_platform\":\"mobile\",\"ts_ingest\":1515831006270,\"article_title\":\"Concerto (Barraqu\\xc3\\xa9)\",\"visitor_page_height\":0,\"visitor_country\":\"BE\",\"visitor_page_timer\":0,\"article\":\"https://en.wikipedia.org/wiki/Concerto_(Barraqu%C3%A9)\",\"visitor_browser\":\"unknown\",\"visitor_os\":\"android\"}\\n'\n",
      "timestamp: 2018-01-13 08:10:06.270000\n",
      "b'{\"visitor_platform\":\"tablet\",\"ts_ingest\":1515831006271,\"article_title\":\"Hilmi Uran\",\"visitor_page_height\":4214,\"visitor_country\":\"BE\",\"visitor_page_timer\":4070,\"article\":\"https://en.wikipedia.org/wiki/Hilmi_Uran\",\"visitor_browser\":\"chrome\",\"visitor_os\":\"android\"}\\n'\n",
      "timestamp: 2018-01-13 08:10:06.271000\n",
      "b'{\"visitor_platform\":\"tablet\",\"ts_ingest\":1515831006281,\"article_title\":\"2012 IAAF World Indoor Championships \\xe2\\x80\\x93 Women\\'s shot put\",\"visitor_page_height\":0,\"visitor_country\":\"BE\",\"visitor_page_timer\":0,\"article\":\"https://en.wikipedia.org/wiki/2012_IAAF_World_Indoor_Championships_%E2%80%93_Women%27s_shot_put\",\"visitor_browser\":\"unknown\",\"visitor_os\":\"ios\"}\\n'\n",
      "timestamp: 2018-01-13 08:10:06.281000\n",
      "b'{\"visitor_platform\":\"tablet\",\"ts_ingest\":1515831006283,\"article_title\":\"Radovan Pankov\",\"visitor_page_height\":17910,\"visitor_country\":\"NO\",\"visitor_page_timer\":12401,\"article\":\"https://en.wikipedia.org/wiki/Radovan_Pankov\",\"visitor_browser\":\"safari\",\"visitor_os\":\"ios\"}\\n'\n",
      "timestamp: 2018-01-13 08:10:06.283000\n",
      "b'{\"ts_ingest\": null}\\n'\n",
      "timestamp: 1970-01-01 00:00:00\n",
      "b'{\"visitor_platform\":\"mobile\",\"ts_ingest\":1515831006304,\"article_title\":\"Dr. Simon Locke\",\"visitor_page_height\":0,\"visitor_country\":\"ES\",\"visitor_page_timer\":0,\"article\":\"https://en.wikipedia.org/wiki/Dr._Simon_Locke\",\"visitor_browser\":\"unknown\",\"visitor_os\":\"ios\"}\\n'\n",
      "timestamp: 2018-01-13 08:10:06.304000\n"
     ]
    }
   ],
   "source": [
    "#\n",
    "# Test: show 10 latest clicks on kafka\n",
    "#\n",
    "\n",
    "import json\n",
    "from datetime import datetime\n",
    "\n",
    "from kafka import KafkaConsumer, TopicPartition\n",
    "from kafka.errors import KafkaError\n",
    "from pandas.io.json import json_normalize #package for flattening json in pandas df\n",
    "\n",
    "client = \"localhost:9092\"\n",
    "consumer = KafkaConsumer(bootstrap_servers=['localhost:9092'])\n",
    "topic = 'clicks'\n",
    "tp = TopicPartition(topic,0)\n",
    "consumer.assign([tp])\n",
    "\n",
    "consumer.seek_to_end(tp)\n",
    "lastOffset = consumer.position(tp)\n",
    "print(f\"Last offset: {lastOffset}\")\n",
    "\n",
    "tailOffset = lastOffset - 10\n",
    "if tailOffset < 0:\n",
    "    tailOffset = 0\n",
    "    \n",
    "consumer.seek(tp, tailOffset)    \n",
    "\n",
    "for message in consumer:\n",
    "    print(message.value)\n",
    "    click = json.loads(message.value)\n",
    "    ts = click.get('ts_ingest') or 0\n",
    "    ts_format = datetime.fromtimestamp(ts/1000.0)\n",
    "    print(f\"timestamp: {ts_format}\")\n",
    "    if message.offset == lastOffset - 1:\n",
    "            break"
   ]
  }
 ],
 "metadata": {
  "kernelspec": {
   "display_name": "Python 3",
   "language": "python",
   "name": "python3"
  },
  "language_info": {
   "codemirror_mode": {
    "name": "ipython",
    "version": 3
   },
   "file_extension": ".py",
   "mimetype": "text/x-python",
   "name": "python",
   "nbconvert_exporter": "python",
   "pygments_lexer": "ipython3",
   "version": "3.7.3"
  }
 },
 "nbformat": 4,
 "nbformat_minor": 2
}
