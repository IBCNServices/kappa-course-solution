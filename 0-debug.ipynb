{
 "cells": [
  {
   "cell_type": "markdown",
   "metadata": {},
   "source": [
    "# Debug helpers\n",
    "\n",
    "This notebook contains a bunch of scripts that can help debug some issues."
   ]
  },
  {
   "cell_type": "code",
   "execution_count": null,
   "metadata": {},
   "outputs": [],
   "source": [
    "%%bash\n",
    "# Install the required Python 3 dependencies\n",
    "python3 -m pip install kafka-python  # type: ignore"
   ]
  },
  {
   "cell_type": "markdown",
   "metadata": {},
   "source": [
    "## Delete a Kafka topic"
   ]
  },
  {
   "cell_type": "code",
   "execution_count": null,
   "metadata": {},
   "outputs": [],
   "source": [
    "from kafka.admin import KafkaAdminClient, NewTopic\n",
    "from kafka.errors import TopicAlreadyExistsError\n",
    "\n",
    "#\n",
    "#  CHANGE THIS TO THE TOPIC YOU WANT TO DELETE\n",
    "#\n",
    "topic = 'clicks'\n",
    "\n",
    "admin_client = KafkaAdminClient(bootstrap_servers=\"localhost:9092\")\n",
    "admin_client.delete_topics([topic])"
   ]
  },
  {
   "cell_type": "markdown",
   "metadata": {},
   "source": [
    "## Show the last 10 messages on a Kafka topic"
   ]
  },
  {
   "cell_type": "code",
   "execution_count": null,
   "metadata": {},
   "outputs": [],
   "source": [
    "import json\n",
    "from datetime import datetime\n",
    "\n",
    "from kafka import KafkaConsumer, TopicPartition\n",
    "\n",
    "client = \"localhost:9092\"\n",
    "consumer = KafkaConsumer(bootstrap_servers=['localhost:9092'],\n",
    "                         enable_auto_commit=False,\n",
    "                         auto_offset_reset='latest')\n",
    "\n",
    "#\n",
    "#  CHANGE THIS TO THE TOPIC YOU WANT TO DEBUG\n",
    "#\n",
    "topic = 'clicks'\n",
    "# topic = 'clicks-cleaned'\n",
    "\n",
    "\n",
    "tp = TopicPartition(topic,0)\n",
    "consumer.assign([tp])\n",
    "\n",
    "consumer.seek_to_end(tp)\n",
    "lastOffset = consumer.position(tp)\n",
    "print(f\"Last offset: {lastOffset}\")\n",
    "\n",
    "tailOffset = lastOffset - 10\n",
    "if tailOffset < 0:\n",
    "    print(\"Topic has no messages!\")\n",
    "else :\n",
    "    consumer.seek(tp, tailOffset)    \n",
    "\n",
    "    for message in consumer:\n",
    "        print(f\"RAW MESSAGE VALUE: {message.value}\")\n",
    "        try:\n",
    "            click = json.loads(message.value)\n",
    "            print(json.dumps(click, indent=4))\n",
    "        except:\n",
    "            print(\"FAILED to decode message\")\n",
    "        print()\n",
    "    #     ts = click.get('ts_ingest') or 0\n",
    "    #     ts= datetime.fromtimestamp(ts/1000.0)\n",
    "    #     print(f\"timestamp: {ts_format}\")\n",
    "        if message.offset >= lastOffset - 1:\n",
    "                break"
   ]
  },
  {
   "cell_type": "markdown",
   "metadata": {},
   "source": [
    "## Follow a Kafka topic\n",
    "\n",
    "This script prints the content of messages of a Kafka topic when they get produced."
   ]
  },
  {
   "cell_type": "code",
   "execution_count": null,
   "metadata": {},
   "outputs": [],
   "source": [
    "import json\n",
    "from datetime import datetime\n",
    "from IPython.display import clear_output\n",
    "\n",
    "from kafka import KafkaConsumer, TopicPartition\n",
    "\n",
    "client = \"localhost:9092\"\n",
    "consumer = KafkaConsumer(bootstrap_servers=['localhost:9092'],\n",
    "                         enable_auto_commit=False,\n",
    "                         auto_offset_reset='latest')\n",
    "\n",
    "#\n",
    "#  CHANGE THIS TO THE TOPIC YOU WANT TO DEBUG\n",
    "#\n",
    "topic = 'clicks-cleaned'\n",
    "\n",
    "consumer.subscribe(topic)\n",
    "\n",
    "i = 0\n",
    "\n",
    "for message in consumer:\n",
    "    print(f\"RAW MESSAGE VALUE: {message.value}\")\n",
    "    try:\n",
    "        click = json.loads(message.value)\n",
    "        print(json.dumps(click, indent=4))\n",
    "    except:\n",
    "        print(\"FAILED to decode message\")\n",
    "    print()\n",
    "#     ts = click.get('ts_ingest') or 0\n",
    "#     ts= datetime.fromtimestamp(ts/1000.0)\n",
    "#     print(f\"timestamp: {ts_format}\")\n",
    "    if i > 500:\n",
    "        clear_output()\n",
    "        i = 0\n",
    "    i = i+1"
   ]
  }
 ],
 "metadata": {
  "kernelspec": {
   "display_name": "Python 3",
   "language": "python",
   "name": "python3"
  },
  "language_info": {
   "codemirror_mode": {
    "name": "ipython",
    "version": 3
   },
   "file_extension": ".py",
   "mimetype": "text/x-python",
   "name": "python",
   "nbconvert_exporter": "python",
   "pygments_lexer": "ipython3",
   "version": "3.9.7"
  }
 },
 "nbformat": 4,
 "nbformat_minor": 2
}
