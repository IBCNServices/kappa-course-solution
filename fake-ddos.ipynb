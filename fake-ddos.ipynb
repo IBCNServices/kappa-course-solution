{
 "cells": [
  {
   "cell_type": "markdown",
   "metadata": {},
   "source": [
    "# Fake DDOS generator\n",
    "\n",
    "This notebook generates fake DDoS traffic every 0.01 seconds."
   ]
  },
  {
   "cell_type": "code",
   "execution_count": null,
   "metadata": {},
   "outputs": [],
   "source": [
    "ddos_event = \"\"\"{\"visitor_platform\": \"mobile\",\"ts_ingest\": 1515819844345,\"article_title\": \"Cercanías San Sebastián\",\"visitor_country\": \"BE\",\"visitor_page_timer\": 0,\"visitor_os\": \"ios\",\"article\": \"https://en.wikipedia.org/wiki/Cercan%C3%ADas_San_Sebasti%C3%A1n\",\"visitor_page_height\": 0,\"visitor_browser\": \"unknown\"}\"\"\""
   ]
  },
  {
   "cell_type": "code",
   "execution_count": null,
   "metadata": {},
   "outputs": [],
   "source": [
    "# SENDMODE = \"kafka\"\n",
    "SENDMODE = \"http\""
   ]
  },
  {
   "cell_type": "code",
   "execution_count": 1,
   "metadata": {},
   "outputs": [
    {
     "name": "stdout",
     "output_type": "stream",
     "text": [
      "Simulating website traffic...\n"
     ]
    },
    {
     "ename": "NameError",
     "evalue": "name 'CLICKSF' is not defined",
     "output_type": "error",
     "traceback": [
      "\u001b[0;31m---------------------------------------------------------------------------\u001b[0m",
      "\u001b[0;31mNameError\u001b[0m                                 Traceback (most recent call last)",
      "\u001b[0;32m<ipython-input-1-29ed55f71a22>\u001b[0m in \u001b[0;36m<module>\u001b[0;34m\u001b[0m\n\u001b[1;32m     18\u001b[0m \u001b[0mprint\u001b[0m\u001b[0;34m(\u001b[0m\u001b[0;34m\"Simulating website traffic...\"\u001b[0m\u001b[0;34m)\u001b[0m\u001b[0;34m\u001b[0m\u001b[0;34m\u001b[0m\u001b[0m\n\u001b[1;32m     19\u001b[0m \u001b[0;34m\u001b[0m\u001b[0m\n\u001b[0;32m---> 20\u001b[0;31m \u001b[0;32mwith\u001b[0m \u001b[0mopen\u001b[0m\u001b[0;34m(\u001b[0m\u001b[0mCLICKSF\u001b[0m\u001b[0;34m,\u001b[0m \u001b[0;34m'r'\u001b[0m\u001b[0;34m)\u001b[0m \u001b[0;32mas\u001b[0m \u001b[0mf\u001b[0m\u001b[0;34m:\u001b[0m\u001b[0;34m\u001b[0m\u001b[0;34m\u001b[0m\u001b[0m\n\u001b[0m\u001b[1;32m     21\u001b[0m     \u001b[0mfirst\u001b[0m \u001b[0;34m=\u001b[0m \u001b[0;32mTrue\u001b[0m\u001b[0;34m\u001b[0m\u001b[0;34m\u001b[0m\u001b[0m\n\u001b[1;32m     22\u001b[0m     \u001b[0mstart_ts\u001b[0m \u001b[0;34m=\u001b[0m \u001b[0;36m0\u001b[0m\u001b[0;34m\u001b[0m\u001b[0;34m\u001b[0m\u001b[0m\n",
      "\u001b[0;31mNameError\u001b[0m: name 'CLICKSF' is not defined"
     ]
    }
   ],
   "source": [
    "import json\n",
    "import time\n",
    "from datetime import datetime\n",
    "\n",
    "import requests\n",
    "from kafka import KafkaProducer\n",
    "from kafka.errors import KafkaError\n",
    "from IPython.display import clear_output\n",
    "\n",
    "producer = KafkaProducer(bootstrap_servers=['localhost:9092'])\n",
    "\n",
    "orig_start = 0\n",
    "replay_start = time.time() * 1000\n",
    "\n",
    "counter = 0\n",
    "i = 0\n",
    "\n",
    "print(\"Simulating ddos traffic...\")\n",
    "\n",
    "while True:\n",
    "    if SENDMODE == \"kafka\":\n",
    "        future = producer.send('clicks', ddos_event.encode())\n",
    "        try:\n",
    "            record_metadata = future.get(timeout=10)\n",
    "        except KafkaError:\n",
    "            log.exception()\n",
    "            pass\n",
    "    else:\n",
    "        requests.post(\"http://localhost:5000/clicks\", data=ddos_event.encode(\"utf-8\"), headers={'Content-Type':'application/json'})\n",
    "\n",
    "    print(\"✓\")\n",
    "    if i > 1000:\n",
    "        clear_output()\n",
    "        i = 0\n",
    "    i = i+1\n",
    "    time.sleep(0.01)\n"
   ]
  }
 ],
 "metadata": {
  "kernelspec": {
   "display_name": "Python 3",
   "language": "python",
   "name": "python3"
  },
  "language_info": {
   "codemirror_mode": {
    "name": "ipython",
    "version": 3
   },
   "file_extension": ".py",
   "mimetype": "text/x-python",
   "name": "python",
   "nbconvert_exporter": "python",
   "pygments_lexer": "ipython3",
   "version": "3.7.3"
  }
 },
 "nbformat": 4,
 "nbformat_minor": 2
}
