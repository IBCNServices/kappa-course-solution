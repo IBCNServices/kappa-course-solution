{
 "cells": [
  {
   "cell_type": "markdown",
   "metadata": {},
   "source": [
    "# Fake DDOS generator\n",
    "\n",
    "This notebook generates fake DDoS traffic every 0.01 seconds."
   ]
  },
  {
   "cell_type": "code",
   "execution_count": null,
   "metadata": {},
   "outputs": [],
   "source": [
    "ddos_event = \"\"\"{\"visitor_platform\": \"mobile\",\"ts_ingest\": 1515819844345,\"article_title\": \"Cercanías San Sebastián\",\"visitor_country\": \"BE\",\"visitor_page_timer\": 0,\"visitor_os\": \"ios\",\"article\": \"https://en.wikipedia.org/wiki/Cercan%C3%ADas_San_Sebasti%C3%A1n\",\"visitor_page_height\": 0,\"visitor_browser\": \"unknown\"}\"\"\""
   ]
  },
  {
   "cell_type": "code",
   "execution_count": null,
   "metadata": {},
   "outputs": [],
   "source": [
    "# SENDMODE = \"kafka\"\n",
    "SENDMODE = \"http\""
   ]
  },
  {
   "cell_type": "code",
   "execution_count": null,
   "metadata": {},
   "outputs": [],
   "source": [
    "import json\n",
    "import time\n",
    "from datetime import datetime\n",
    "\n",
    "import requests\n",
    "from kafka import KafkaProducer\n",
    "from kafka.errors import KafkaError\n",
    "from IPython.display import clear_output\n",
    "\n",
    "producer = KafkaProducer(bootstrap_servers=['localhost:9092'],\n",
    "                         value_serializer=lambda v: json.dumps(v).encode('utf-8'))\n",
    "\n",
    "orig_start = 0\n",
    "replay_start = time.time() * 1000\n",
    "\n",
    "counter = 0\n",
    "i = 0\n",
    "\n",
    "print(\"Simulating ddos traffic...\")\n",
    "\n",
    "ddos_event_dict = json.loads(ddos_event)\n",
    "\n",
    "while True:\n",
    "    ddos_event_dict['ts_ingest'] = round(time.time() * 1000)\n",
    "    if SENDMODE == \"kafka\":        \n",
    "        future = producer.send('clicks', ddos_event_dict)\n",
    "        try:\n",
    "            record_metadata = future.get(timeout=10)\n",
    "        except KafkaError:\n",
    "            log.exception()\n",
    "            pass\n",
    "    else:\n",
    "        requests.post(\"http://localhost:5000/clicks\", data=json.dumps(ddos_event_dict).encode(\"utf-8\"), headers={'Content-Type':'application/json'})\n",
    "\n",
    "    print(\"✓\")\n",
    "    if i > 1000:\n",
    "        clear_output()\n",
    "        i = 0\n",
    "    i = i+1\n",
    "    time.sleep(0.001)\n"
   ]
  }
 ],
 "metadata": {
  "kernelspec": {
   "display_name": "Python 3",
   "language": "python",
   "name": "python3"
  },
  "language_info": {
   "codemirror_mode": {
    "name": "ipython",
    "version": 3
   },
   "file_extension": ".py",
   "mimetype": "text/x-python",
   "name": "python",
   "nbconvert_exporter": "python",
   "pygments_lexer": "ipython3",
   "version": "3.7.3"
  }
 },
 "nbformat": 4,
 "nbformat_minor": 2
}
