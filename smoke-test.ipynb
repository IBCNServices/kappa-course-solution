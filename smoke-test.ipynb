{
 "cells": [
  {
   "cell_type": "code",
   "execution_count": 1,
   "metadata": {},
   "outputs": [
    {
     "name": "stdout",
     "output_type": "stream",
     "text": [
      "Requirement already satisfied: kafka-python in /opt/conda/lib/python3.7/site-packages (1.4.6)\n",
      "Collecting influxdb\n",
      "  Downloading https://files.pythonhosted.org/packages/b7/eb/ff503c3195c2bfcf53be1deca10396e9e7b55096ccb51ee94aef54434f33/influxdb-5.2.2-py2.py3-none-any.whl (70kB)\n",
      "Requirement already satisfied: rx in /opt/conda/lib/python3.7/site-packages (1.6.1)\n",
      "Requirement already satisfied: python-dateutil>=2.6.0 in /opt/conda/lib/python3.7/site-packages (from influxdb) (2.8.0)\n",
      "Requirement already satisfied: requests>=2.17.0 in /opt/conda/lib/python3.7/site-packages (from influxdb) (2.21.0)\n",
      "Requirement already satisfied: pytz in /opt/conda/lib/python3.7/site-packages (from influxdb) (2019.1)\n",
      "Requirement already satisfied: six>=1.10.0 in /opt/conda/lib/python3.7/site-packages (from influxdb) (1.12.0)\n",
      "Requirement already satisfied: chardet<3.1.0,>=3.0.2 in /opt/conda/lib/python3.7/site-packages (from requests>=2.17.0->influxdb) (3.0.4)\n",
      "Requirement already satisfied: urllib3<1.25,>=1.21.1 in /opt/conda/lib/python3.7/site-packages (from requests>=2.17.0->influxdb) (1.24.2)\n",
      "Requirement already satisfied: certifi>=2017.4.17 in /opt/conda/lib/python3.7/site-packages (from requests>=2.17.0->influxdb) (2019.3.9)\n",
      "Requirement already satisfied: idna<2.9,>=2.5 in /opt/conda/lib/python3.7/site-packages (from requests>=2.17.0->influxdb) (2.8)\n",
      "Installing collected packages: influxdb\n",
      "Successfully installed influxdb-5.2.2\n"
     ]
    }
   ],
   "source": [
    "%%bash\n",
    "# Install the required Python 3 dependencies\n",
    "python3 -m pip install kafka-python pyarrow influxdb rx  # type: ignore"
   ]
  },
  {
   "cell_type": "code",
   "execution_count": 2,
   "metadata": {},
   "outputs": [
    {
     "name": "stdout",
     "output_type": "stream",
     "text": [
      "Creating topic: smoke-test\n"
     ]
    },
    {
     "data": {
      "text/plain": [
       "CreateTopicsResponse_v0(topic_errors=[(topic='smoke-test', error_code=0)])"
      ]
     },
     "execution_count": 2,
     "metadata": {},
     "output_type": "execute_result"
    }
   ],
   "source": [
    "# Initialize Kafka Topics\n",
    "from kafka import KafkaClient\n",
    "from kafka.admin import KafkaAdminClient, NewTopic\n",
    "\n",
    "TOPICS = [\"smoke-test\"]\n",
    "\n",
    "kafka_client = KafkaClient(\"localhost:9092\")\n",
    "existing_topics = kafka_client.topic_partitions\n",
    "\n",
    "admin_client = KafkaAdminClient(bootstrap_servers=\"localhost:9092\")\n",
    "topic_list = []\n",
    "for topicname in TOPICS:\n",
    "    if topicname not in existing_topics:\n",
    "        print(\"Creating topic: {}\".format(topicname))\n",
    "        topic_list.append(NewTopic(name=topicname, num_partitions=1, replication_factor=1))\n",
    "admin_client.create_topics(new_topics=topic_list, validate_only=False)"
   ]
  },
  {
   "cell_type": "code",
   "execution_count": 3,
   "metadata": {},
   "outputs": [],
   "source": [
    "# Extract archive of click data\n",
    "import zipfile\n",
    "\n",
    "ARCHIVEF = \"20180113-6-9-with-nulls.json.zip\"\n",
    "CLICKSF = \"20180113-6-9-with-nulls.json\"\n",
    "\n",
    "with zipfile.ZipFile(ARCHIVEF,\"r\") as zip_ref:\n",
    "    zip_ref.extractall(\".\")"
   ]
  },
  {
   "cell_type": "code",
   "execution_count": 4,
   "metadata": {},
   "outputs": [],
   "source": [
    "SENDMODE = \"kafka\"\n",
    "#SENDMODE = \"http\""
   ]
  },
  {
   "cell_type": "code",
   "execution_count": 5,
   "metadata": {},
   "outputs": [
    {
     "name": "stdout",
     "output_type": "stream",
     "text": [
      "Simulating website traffic...\n",
      "✓ 2018-01-13 05:04:04.345000\n"
     ]
    }
   ],
   "source": [
    "# Send click data\n",
    "import json\n",
    "import time\n",
    "from datetime import datetime\n",
    "\n",
    "import requests\n",
    "from kafka import KafkaProducer\n",
    "from kafka.errors import KafkaError\n",
    "\n",
    "producer = KafkaProducer(bootstrap_servers=['localhost:9092'])\n",
    "\n",
    "orig_start = 0\n",
    "replay_start = time.time() * 1000\n",
    "\n",
    "counter = 0\n",
    "\n",
    "print(\"Simulating website traffic...\")\n",
    "\n",
    "with open(CLICKSF, 'r') as f:\n",
    "    first = True\n",
    "    start_ts = 0\n",
    "    for line in f:\n",
    "        click = json.loads(line)\n",
    "\n",
    "        orig_event = click[\"ts_ingest\"] or 0\n",
    "        \n",
    "        if orig_event:\n",
    "            curr_ts = time.time() * 1000\n",
    "\n",
    "            if first:\n",
    "                first = False\n",
    "                orig_start = click[\"ts_ingest\"]\n",
    "\n",
    "            difference = (orig_event - orig_start) - (curr_ts - replay_start)\n",
    "\n",
    "            if difference > 0:\n",
    "                print(\"sleeping {0:.2f} seconds\".format(difference/1000.0))\n",
    "                time.sleep(difference/1000.0)\n",
    "\n",
    "        if SENDMODE == \"kafka\":\n",
    "            future = producer.send('clicks', line.encode())\n",
    "            try:\n",
    "                record_metadata = future.get(timeout=10)\n",
    "            except KafkaError:\n",
    "                log.exception()\n",
    "                pass\n",
    "        else:\n",
    "            #print(f\"sending {line}\")\n",
    "            requests.post(\"http://localhost:5000/clicks\", data=line.encode(\"utf-8\"), headers={'Content-Type':'application/json'})\n",
    "        \n",
    "        print(\"✓ {}\".format(datetime.fromtimestamp(orig_event/1000.0)))\n",
    "        break"
   ]
  },
  {
   "cell_type": "code",
   "execution_count": 6,
   "metadata": {},
   "outputs": [],
   "source": [
    "#\n",
    "# source: https://www.influxdata.com/blog/getting-started-python-influxdb/\n",
    "#\n",
    "from influxdb import InfluxDBClient\n",
    "client = InfluxDBClient(host='localhost', port=8086)"
   ]
  },
  {
   "cell_type": "code",
   "execution_count": 7,
   "metadata": {},
   "outputs": [
    {
     "data": {
      "text/plain": [
       "[{'name': '_internal'}, {'name': 'pyexample'}]"
      ]
     },
     "execution_count": 7,
     "metadata": {},
     "output_type": "execute_result"
    }
   ],
   "source": [
    "client.create_database('pyexample')\n",
    "client.get_list_database()"
   ]
  },
  {
   "cell_type": "code",
   "execution_count": 8,
   "metadata": {},
   "outputs": [
    {
     "data": {
      "text/plain": [
       "True"
      ]
     },
     "execution_count": 8,
     "metadata": {},
     "output_type": "execute_result"
    }
   ],
   "source": [
    "client.switch_database('pyexample')\n",
    "json_body = [\n",
    "    {\n",
    "        \"measurement\": \"brushEvents\",\n",
    "        \"tags\": {\n",
    "            \"user\": \"Carol\",\n",
    "            \"brushId\": \"6c89f539-71c6-490d-a28d-6c5d84c0ee2f\"\n",
    "        },\n",
    "        \"time\": \"2018-03-28T8:01:00Z\",\n",
    "        \"fields\": {\n",
    "            \"duration\": 127\n",
    "        }\n",
    "    },\n",
    "    {\n",
    "        \"measurement\": \"brushEvents\",\n",
    "        \"tags\": {\n",
    "            \"user\": \"Carol\",\n",
    "            \"brushId\": \"6c89f539-71c6-490d-a28d-6c5d84c0ee2f\"\n",
    "        },\n",
    "        \"time\": \"2018-03-29T8:04:00Z\",\n",
    "        \"fields\": {\n",
    "            \"duration\": 132\n",
    "        }\n",
    "    },\n",
    "    {\n",
    "        \"measurement\": \"brushEvents\",\n",
    "        \"tags\": {\n",
    "            \"user\": \"Carol\",\n",
    "            \"brushId\": \"6c89f539-71c6-490d-a28d-6c5d84c0ee2f\"\n",
    "        },\n",
    "        \"time\": \"2018-03-30T8:02:00Z\",\n",
    "        \"fields\": {\n",
    "            \"duration\": 129\n",
    "        }\n",
    "    }\n",
    "]\n",
    "client.write_points(json_body)"
   ]
  },
  {
   "cell_type": "code",
   "execution_count": 9,
   "metadata": {},
   "outputs": [
    {
     "data": {
      "text/plain": [
       "{'statement_id': 0,\n",
       " 'series': [{'name': 'brushEvents',\n",
       "   'tags': {'user': 'Carol'},\n",
       "   'columns': ['time', 'duration'],\n",
       "   'values': [['2018-03-28T08:01:00Z', 127],\n",
       "    ['2018-03-29T08:04:00Z', 132],\n",
       "    ['2018-03-30T08:02:00Z', 129]]}]}"
      ]
     },
     "execution_count": 9,
     "metadata": {},
     "output_type": "execute_result"
    }
   ],
   "source": [
    "results = client.query('SELECT \"duration\" FROM \"pyexample\".\"autogen\".\"brushEvents\" WHERE time < now() - 4d GROUP BY \"user\"')\n",
    "results.raw"
   ]
  }
 ],
 "metadata": {
  "kernelspec": {
   "display_name": "Python 3",
   "language": "python",
   "name": "python3"
  },
  "language_info": {
   "codemirror_mode": {
    "name": "ipython",
    "version": 3
   },
   "file_extension": ".py",
   "mimetype": "text/x-python",
   "name": "python",
   "nbconvert_exporter": "python",
   "pygments_lexer": "ipython3",
   "version": "3.9.7"
  }
 },
 "nbformat": 4,
 "nbformat_minor": 2
}
